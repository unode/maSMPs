{
 "cells": [
  {
   "cell_type": "markdown",
   "id": "e0e8fa05",
   "metadata": {},
   "source": [
    "## Creating Type.md file"
   ]
  },
  {
   "cell_type": "code",
   "execution_count": 6,
   "id": "c6b188de",
   "metadata": {},
   "outputs": [],
   "source": [
    "from rdfpandas.graph import to_dataframe\n",
    "from functools import reduce\n",
    "import pandas as pd\n",
    "import rdflib\n",
    "import numpy as np\n",
    "import warnings\n",
    "warnings.filterwarnings('error')\n",
    "import pandas as pd\n",
    "pd.options.mode.chained_assignment = None "
   ]
  },
  {
   "cell_type": "code",
   "execution_count": 7,
   "id": "786e574d",
   "metadata": {},
   "outputs": [
    {
     "data": {
      "text/plain": [
       "get_ontology(\"http://www.semanticweb.org/oxg/ontologies/2023/1/maSMP#\")"
      ]
     },
     "execution_count": 7,
     "metadata": {},
     "output_type": "execute_result"
    }
   ],
   "source": [
    "from owlready2 import *\n",
    "from owlready2 import *\n",
    "\n",
    "onto = get_ontology('/Users/dhwani/ZBMED/code/maSMP.owl')\n",
    "onto.load()"
   ]
  },
  {
   "cell_type": "code",
   "execution_count": 8,
   "id": "450adffb",
   "metadata": {},
   "outputs": [],
   "source": [
    "gen_obj = onto.classes()"
   ]
  },
  {
   "cell_type": "code",
   "execution_count": 9,
   "id": "2e791c73",
   "metadata": {},
   "outputs": [
    {
     "data": {
      "text/plain": [
       "list"
      ]
     },
     "execution_count": 9,
     "metadata": {},
     "output_type": "execute_result"
    }
   ],
   "source": [
    "class_list = list(onto.classes())\n",
    "type(class_list)"
   ]
  },
  {
   "cell_type": "code",
   "execution_count": 10,
   "id": "148999ba",
   "metadata": {},
   "outputs": [],
   "source": [
    "new_list = []\n",
    "for item in class_list:\n",
    "    new_list.append(str(item))  "
   ]
  },
  {
   "cell_type": "code",
   "execution_count": 11,
   "id": "04aa4b5d",
   "metadata": {},
   "outputs": [
    {
     "name": "stdout",
     "output_type": "stream",
     "text": [
      "Documentation\n",
      "Text\n",
      "SoftwareSourceCode\n",
      "SoftwareApplication\n",
      "LearningResource\n",
      "URL\n",
      "SMP\n",
      "TestAction\n",
      "DefinedTerm\n",
      "FormalParameter\n",
      "Dataset\n",
      "Action\n",
      "Organization\n",
      "Person\n",
      "CreativeWork\n",
      "PropertyValue\n",
      "Date\n",
      "Agent\n",
      "Boolean\n",
      "Id\n",
      "License\n",
      "Intangible\n",
      "DataType\n",
      "Dataset\n"
     ]
    },
    {
     "data": {
      "text/plain": [
       "7"
      ]
     },
     "execution_count": 11,
     "metadata": {},
     "output_type": "execute_result"
    }
   ],
   "source": [
    "for i in new_list:\n",
    "    x = i.split('.')[-1]\n",
    "    \n",
    "    print(x)\n",
    "len(x)"
   ]
  },
  {
   "cell_type": "code",
   "execution_count": 12,
   "id": "da5645a1",
   "metadata": {},
   "outputs": [],
   "source": [
    "def generate_graph(file_path):\n",
    "    \"\"\"\n",
    "    input: turtle file(.ttl)\n",
    "    output: graph\n",
    "    generating and serializing graph\n",
    "    \"\"\"\n",
    "    graph = rdflib.Graph()\n",
    "#     RDF_FILE = r'/Users/dhwani/Downloads/ontology.ttl'\n",
    "    graph.parse(file_path, format='turtle')\n",
    "    v = graph.serialize(format=\"ttl\")\n",
    "    return graph"
   ]
  },
  {
   "cell_type": "code",
   "execution_count": 13,
   "id": "c9b2a636",
   "metadata": {},
   "outputs": [],
   "source": [
    "g1 = generate_graph('/Users/dhwani/Downloads/ontology.ttl')"
   ]
  },
  {
   "cell_type": "code",
   "execution_count": 14,
   "id": "45792595",
   "metadata": {},
   "outputs": [],
   "source": [
    "q2=\"\"\"SELECT DISTINCT ?subject ?label ?supertype\n",
    "WHERE \n",
    "    {\n",
    "        ?subject a owl:Class .\n",
    "        OPTIONAL { ?subject rdfs:subClassOf ?supertype } .\n",
    "        OPTIONAL { ?subject rdfs:label ?label } .\n",
    "       \n",
    "    }\n",
    "\n",
    "\"\"\"\n",
    "pq = g1.query(q2)\n",
    "pd.DataFrame(pq.bindings)\n",
    "    # converts everything to strings including missing values\n",
    "pd.DataFrame(pq.bindings).applymap(str).rename(columns=str)\n",
    "# serialize with json and then parse (clobbers types, converting values to strings)\n",
    "import json\n",
    "results_json = pq.serialize(format=\"json\")\n",
    "bindings = json.loads(results_json)[\"results\"][\"bindings\"]\n",
    "bindings = [{k: v[\"value\"] for k, v in result.items()} for result in bindings]\n",
    "df2 = pd.DataFrame(bindings)\n",
    "# print(bindings)"
   ]
  },
  {
   "cell_type": "code",
   "execution_count": 15,
   "id": "b579d4c6",
   "metadata": {},
   "outputs": [
    {
     "data": {
      "text/html": [
       "<div>\n",
       "<style scoped>\n",
       "    .dataframe tbody tr th:only-of-type {\n",
       "        vertical-align: middle;\n",
       "    }\n",
       "\n",
       "    .dataframe tbody tr th {\n",
       "        vertical-align: top;\n",
       "    }\n",
       "\n",
       "    .dataframe thead th {\n",
       "        text-align: right;\n",
       "    }\n",
       "</style>\n",
       "<table border=\"1\" class=\"dataframe\">\n",
       "  <thead>\n",
       "    <tr style=\"text-align: right;\">\n",
       "      <th></th>\n",
       "      <th>subject</th>\n",
       "      <th>supertype</th>\n",
       "      <th>label</th>\n",
       "    </tr>\n",
       "  </thead>\n",
       "  <tbody>\n",
       "    <tr>\n",
       "      <th>27</th>\n",
       "      <td>http://www.semanticweb.org/oxg/ontologies/2023...</td>\n",
       "      <td>https://schema.org/CreativeWork</td>\n",
       "      <td>Documentation</td>\n",
       "    </tr>\n",
       "    <tr>\n",
       "      <th>28</th>\n",
       "      <td>http://www.semanticweb.org/oxg/ontologies/2023...</td>\n",
       "      <td>https://schema.org/CreativeWork</td>\n",
       "      <td>SMP</td>\n",
       "    </tr>\n",
       "    <tr>\n",
       "      <th>29</th>\n",
       "      <td>http://www.semanticweb.org/oxg/ontologies/2023...</td>\n",
       "      <td>https://schema.org/Action</td>\n",
       "      <td>TestAction</td>\n",
       "    </tr>\n",
       "    <tr>\n",
       "      <th>30</th>\n",
       "      <td>http://xmlns.com/foaf/0.1/Agent</td>\n",
       "      <td>NaN</td>\n",
       "      <td>Agent</td>\n",
       "    </tr>\n",
       "    <tr>\n",
       "      <th>31</th>\n",
       "      <td>https://bioschemas.org/FormalParameter</td>\n",
       "      <td>https://schema.org/Intangible</td>\n",
       "      <td>FormalParameter</td>\n",
       "    </tr>\n",
       "    <tr>\n",
       "      <th>32</th>\n",
       "      <td>https://schema.org/Action</td>\n",
       "      <td>NaN</td>\n",
       "      <td>Action</td>\n",
       "    </tr>\n",
       "    <tr>\n",
       "      <th>33</th>\n",
       "      <td>https://schema.org/Boolean</td>\n",
       "      <td>https://schema.org/DataType</td>\n",
       "      <td>Boolean</td>\n",
       "    </tr>\n",
       "    <tr>\n",
       "      <th>34</th>\n",
       "      <td>https://schema.org/CreativeWork</td>\n",
       "      <td>NaN</td>\n",
       "      <td>CreativeWork</td>\n",
       "    </tr>\n",
       "    <tr>\n",
       "      <th>35</th>\n",
       "      <td>https://schema.org/DataType</td>\n",
       "      <td>NaN</td>\n",
       "      <td>DataType</td>\n",
       "    </tr>\n",
       "    <tr>\n",
       "      <th>36</th>\n",
       "      <td>https://schema.org/Dataset</td>\n",
       "      <td>https://schema.org/CreativeWork</td>\n",
       "      <td>Dataset-SMP</td>\n",
       "    </tr>\n",
       "    <tr>\n",
       "      <th>37</th>\n",
       "      <td>https://schema.org/Date</td>\n",
       "      <td>https://schema.org/DataType</td>\n",
       "      <td>Date</td>\n",
       "    </tr>\n",
       "    <tr>\n",
       "      <th>38</th>\n",
       "      <td>https://schema.org/DefinedTerm</td>\n",
       "      <td>https://schema.org/Intangible</td>\n",
       "      <td>DefinedTerm</td>\n",
       "    </tr>\n",
       "    <tr>\n",
       "      <th>39</th>\n",
       "      <td>https://schema.org/Intangible</td>\n",
       "      <td>NaN</td>\n",
       "      <td>Intangible</td>\n",
       "    </tr>\n",
       "    <tr>\n",
       "      <th>40</th>\n",
       "      <td>https://schema.org/LearningResource</td>\n",
       "      <td>https://schema.org/CreativeWork</td>\n",
       "      <td>LearningResource</td>\n",
       "    </tr>\n",
       "    <tr>\n",
       "      <th>41</th>\n",
       "      <td>https://schema.org/Organization</td>\n",
       "      <td>http://xmlns.com/foaf/0.1/Agent</td>\n",
       "      <td>Organization</td>\n",
       "    </tr>\n",
       "    <tr>\n",
       "      <th>42</th>\n",
       "      <td>https://schema.org/Person</td>\n",
       "      <td>http://xmlns.com/foaf/0.1/Agent</td>\n",
       "      <td>Person</td>\n",
       "    </tr>\n",
       "    <tr>\n",
       "      <th>43</th>\n",
       "      <td>https://schema.org/PropertyValue</td>\n",
       "      <td>https://schema.org/Intangible</td>\n",
       "      <td>PropertyValue</td>\n",
       "    </tr>\n",
       "    <tr>\n",
       "      <th>44</th>\n",
       "      <td>https://schema.org/SoftwareApplication</td>\n",
       "      <td>https://schema.org/CreativeWork</td>\n",
       "      <td>SoftwareApplication</td>\n",
       "    </tr>\n",
       "    <tr>\n",
       "      <th>45</th>\n",
       "      <td>https://schema.org/SoftwareSourceCode</td>\n",
       "      <td>https://schema.org/CreativeWork</td>\n",
       "      <td>SoftwareSourceCode</td>\n",
       "    </tr>\n",
       "    <tr>\n",
       "      <th>46</th>\n",
       "      <td>https://schema.org/Text</td>\n",
       "      <td>https://schema.org/DataType</td>\n",
       "      <td>Text</td>\n",
       "    </tr>\n",
       "    <tr>\n",
       "      <th>47</th>\n",
       "      <td>https://schema.org/URL</td>\n",
       "      <td>https://schema.org/Text</td>\n",
       "      <td>URL</td>\n",
       "    </tr>\n",
       "    <tr>\n",
       "      <th>48</th>\n",
       "      <td>https://w3id.org/dcso/ns/core#Dataset</td>\n",
       "      <td>NaN</td>\n",
       "      <td>Dataset-DMP</td>\n",
       "    </tr>\n",
       "    <tr>\n",
       "      <th>49</th>\n",
       "      <td>https://w3id.org/dcso/ns/core#Id</td>\n",
       "      <td>NaN</td>\n",
       "      <td>Id</td>\n",
       "    </tr>\n",
       "    <tr>\n",
       "      <th>50</th>\n",
       "      <td>https://w3id.org/dcso/ns/core#License</td>\n",
       "      <td>NaN</td>\n",
       "      <td>License</td>\n",
       "    </tr>\n",
       "  </tbody>\n",
       "</table>\n",
       "</div>"
      ],
      "text/plain": [
       "                                              subject   \n",
       "27  http://www.semanticweb.org/oxg/ontologies/2023...  \\\n",
       "28  http://www.semanticweb.org/oxg/ontologies/2023...   \n",
       "29  http://www.semanticweb.org/oxg/ontologies/2023...   \n",
       "30                    http://xmlns.com/foaf/0.1/Agent   \n",
       "31             https://bioschemas.org/FormalParameter   \n",
       "32                          https://schema.org/Action   \n",
       "33                         https://schema.org/Boolean   \n",
       "34                    https://schema.org/CreativeWork   \n",
       "35                        https://schema.org/DataType   \n",
       "36                         https://schema.org/Dataset   \n",
       "37                            https://schema.org/Date   \n",
       "38                     https://schema.org/DefinedTerm   \n",
       "39                      https://schema.org/Intangible   \n",
       "40                https://schema.org/LearningResource   \n",
       "41                    https://schema.org/Organization   \n",
       "42                          https://schema.org/Person   \n",
       "43                   https://schema.org/PropertyValue   \n",
       "44             https://schema.org/SoftwareApplication   \n",
       "45              https://schema.org/SoftwareSourceCode   \n",
       "46                            https://schema.org/Text   \n",
       "47                             https://schema.org/URL   \n",
       "48              https://w3id.org/dcso/ns/core#Dataset   \n",
       "49                   https://w3id.org/dcso/ns/core#Id   \n",
       "50              https://w3id.org/dcso/ns/core#License   \n",
       "\n",
       "                          supertype                label  \n",
       "27  https://schema.org/CreativeWork        Documentation  \n",
       "28  https://schema.org/CreativeWork                  SMP  \n",
       "29        https://schema.org/Action           TestAction  \n",
       "30                              NaN                Agent  \n",
       "31    https://schema.org/Intangible      FormalParameter  \n",
       "32                              NaN               Action  \n",
       "33      https://schema.org/DataType              Boolean  \n",
       "34                              NaN         CreativeWork  \n",
       "35                              NaN             DataType  \n",
       "36  https://schema.org/CreativeWork          Dataset-SMP  \n",
       "37      https://schema.org/DataType                 Date  \n",
       "38    https://schema.org/Intangible          DefinedTerm  \n",
       "39                              NaN           Intangible  \n",
       "40  https://schema.org/CreativeWork     LearningResource  \n",
       "41  http://xmlns.com/foaf/0.1/Agent         Organization  \n",
       "42  http://xmlns.com/foaf/0.1/Agent               Person  \n",
       "43    https://schema.org/Intangible        PropertyValue  \n",
       "44  https://schema.org/CreativeWork  SoftwareApplication  \n",
       "45  https://schema.org/CreativeWork   SoftwareSourceCode  \n",
       "46      https://schema.org/DataType                 Text  \n",
       "47          https://schema.org/Text                  URL  \n",
       "48                              NaN          Dataset-DMP  \n",
       "49                              NaN                   Id  \n",
       "50                              NaN              License  "
      ]
     },
     "execution_count": 15,
     "metadata": {},
     "output_type": "execute_result"
    }
   ],
   "source": [
    "df_f = df2.dropna(subset=[\"supertype\", \"label\"], how='all')\n",
    "df_f"
   ]
  },
  {
   "cell_type": "code",
   "execution_count": 16,
   "id": "82c3b334",
   "metadata": {},
   "outputs": [],
   "source": [
    "df_dict = df_f[[\"subject\", \"label\"]]"
   ]
  },
  {
   "cell_type": "code",
   "execution_count": 17,
   "id": "78e5fb9b",
   "metadata": {},
   "outputs": [],
   "source": [
    "area_dict = dict(zip(df_dict['subject'], df_dict['label']))"
   ]
  },
  {
   "cell_type": "code",
   "execution_count": 18,
   "id": "29aeb597",
   "metadata": {},
   "outputs": [
    {
     "data": {
      "text/plain": [
       "{'http://www.semanticweb.org/oxg/ontologies/2023/1/maSMP#Documentation': 'Documentation',\n",
       " 'http://www.semanticweb.org/oxg/ontologies/2023/1/maSMP#SMP': 'SMP',\n",
       " 'http://www.semanticweb.org/oxg/ontologies/2023/1/maSMP#TestAction': 'TestAction',\n",
       " 'http://xmlns.com/foaf/0.1/Agent': 'Agent',\n",
       " 'https://bioschemas.org/FormalParameter': 'FormalParameter',\n",
       " 'https://schema.org/Action': 'Action',\n",
       " 'https://schema.org/Boolean': 'Boolean',\n",
       " 'https://schema.org/CreativeWork': 'CreativeWork',\n",
       " 'https://schema.org/DataType': 'DataType',\n",
       " 'https://schema.org/Dataset': 'Dataset-SMP',\n",
       " 'https://schema.org/Date': 'Date',\n",
       " 'https://schema.org/DefinedTerm': 'DefinedTerm',\n",
       " 'https://schema.org/Intangible': 'Intangible',\n",
       " 'https://schema.org/LearningResource': 'LearningResource',\n",
       " 'https://schema.org/Organization': 'Organization',\n",
       " 'https://schema.org/Person': 'Person',\n",
       " 'https://schema.org/PropertyValue': 'PropertyValue',\n",
       " 'https://schema.org/SoftwareApplication': 'SoftwareApplication',\n",
       " 'https://schema.org/SoftwareSourceCode': 'SoftwareSourceCode',\n",
       " 'https://schema.org/Text': 'Text',\n",
       " 'https://schema.org/URL': 'URL',\n",
       " 'https://w3id.org/dcso/ns/core#Dataset': 'Dataset-DMP',\n",
       " 'https://w3id.org/dcso/ns/core#Id': 'Id',\n",
       " 'https://w3id.org/dcso/ns/core#License': 'License'}"
      ]
     },
     "execution_count": 18,
     "metadata": {},
     "output_type": "execute_result"
    }
   ],
   "source": [
    "area_dict"
   ]
  },
  {
   "cell_type": "code",
   "execution_count": 131,
   "id": "9738dd33",
   "metadata": {},
   "outputs": [],
   "source": [
    "first12=list(area_dict.values())[:12]"
   ]
  },
  {
   "cell_type": "code",
   "execution_count": 132,
   "id": "1bec7883",
   "metadata": {},
   "outputs": [
    {
     "data": {
      "text/plain": [
       "['Documentation',\n",
       " 'SMP',\n",
       " 'TestAction',\n",
       " 'Agent',\n",
       " 'FormalParameter',\n",
       " 'Action',\n",
       " 'Boolean',\n",
       " 'CreativeWork',\n",
       " 'DataType',\n",
       " 'Dataset-SMP',\n",
       " 'Date',\n",
       " 'DefinedTerm']"
      ]
     },
     "execution_count": 132,
     "metadata": {},
     "output_type": "execute_result"
    }
   ],
   "source": [
    "first12"
   ]
  },
  {
   "cell_type": "code",
   "execution_count": 144,
   "id": "cddc6d05",
   "metadata": {},
   "outputs": [],
   "source": [
    "last=list(area_dict.items())[12:]"
   ]
  },
  {
   "cell_type": "code",
   "execution_count": 145,
   "id": "f324938c",
   "metadata": {},
   "outputs": [
    {
     "data": {
      "text/plain": [
       "[('https://schema.org/Intangible', 'Intangible'),\n",
       " ('https://schema.org/LearningResource', 'LearningResource'),\n",
       " ('https://schema.org/Organization', 'Organization'),\n",
       " ('https://schema.org/Person', 'Person'),\n",
       " ('https://schema.org/PropertyValue', 'PropertyValue'),\n",
       " ('https://schema.org/SoftwareApplication', 'SoftwareApplication'),\n",
       " ('https://schema.org/SoftwareSourceCode', 'SoftwareSourceCode'),\n",
       " ('https://schema.org/Text', 'Text'),\n",
       " ('https://schema.org/URL', 'URL'),\n",
       " ('https://w3id.org/dcso/ns/core#Dataset', 'Dataset-DMP'),\n",
       " ('https://w3id.org/dcso/ns/core#Id', 'Id'),\n",
       " ('https://w3id.org/dcso/ns/core#License', 'License')]"
      ]
     },
     "execution_count": 145,
     "metadata": {},
     "output_type": "execute_result"
    }
   ],
   "source": [
    "last"
   ]
  },
  {
   "cell_type": "code",
   "execution_count": 133,
   "id": "9782a952",
   "metadata": {},
   "outputs": [],
   "source": [
    "last12=list(area_dict.values())[12:]"
   ]
  },
  {
   "cell_type": "code",
   "execution_count": 134,
   "id": "95b488e8",
   "metadata": {},
   "outputs": [
    {
     "data": {
      "text/plain": [
       "['Intangible',\n",
       " 'LearningResource',\n",
       " 'Organization',\n",
       " 'Person',\n",
       " 'PropertyValue',\n",
       " 'SoftwareApplication',\n",
       " 'SoftwareSourceCode',\n",
       " 'Text',\n",
       " 'URL',\n",
       " 'Dataset-DMP',\n",
       " 'Id',\n",
       " 'License']"
      ]
     },
     "execution_count": 134,
     "metadata": {},
     "output_type": "execute_result"
    }
   ],
   "source": [
    "last12"
   ]
  },
  {
   "cell_type": "code",
   "execution_count": 142,
   "id": "005b8c07",
   "metadata": {},
   "outputs": [],
   "source": [
    "first12_list=[]\n",
    "for j in first12:\n",
    "    er = \"<ul><li>\" + j + '</li></ul>'\n",
    "    first12_list.append(er)"
   ]
  },
  {
   "cell_type": "code",
   "execution_count": 143,
   "id": "763acee3",
   "metadata": {},
   "outputs": [
    {
     "data": {
      "text/plain": [
       "['<ul><li>Documentation</li></ul>',\n",
       " '<ul><li>SMP</li></ul>',\n",
       " '<ul><li>TestAction</li></ul>',\n",
       " '<ul><li>Agent</li></ul>',\n",
       " '<ul><li>FormalParameter</li></ul>',\n",
       " '<ul><li>Action</li></ul>',\n",
       " '<ul><li>Boolean</li></ul>',\n",
       " '<ul><li>CreativeWork</li></ul>',\n",
       " '<ul><li>DataType</li></ul>',\n",
       " '<ul><li>Dataset-SMP</li></ul>',\n",
       " '<ul><li>Date</li></ul>',\n",
       " '<ul><li>DefinedTerm</li></ul>']"
      ]
     },
     "execution_count": 143,
     "metadata": {},
     "output_type": "execute_result"
    }
   ],
   "source": [
    "first12_list"
   ]
  },
  {
   "cell_type": "code",
   "execution_count": 136,
   "id": "9ef69c7d",
   "metadata": {},
   "outputs": [],
   "source": [
    "last12_list=[]\n",
    "for i in last12:\n",
    "    ex = \"<ul><li>\" + i + '</li></ul>'\n",
    "    last12_list.append(ex)"
   ]
  },
  {
   "cell_type": "code",
   "execution_count": 137,
   "id": "a4020814",
   "metadata": {},
   "outputs": [
    {
     "data": {
      "text/plain": [
       "['<ul><li>Intangible</li></ul>',\n",
       " '<ul><li>LearningResource</li></ul>',\n",
       " '<ul><li>Organization</li></ul>',\n",
       " '<ul><li>Person</li></ul>',\n",
       " '<ul><li>PropertyValue</li></ul>',\n",
       " '<ul><li>SoftwareApplication</li></ul>',\n",
       " '<ul><li>SoftwareSourceCode</li></ul>',\n",
       " '<ul><li>Text</li></ul>',\n",
       " '<ul><li>URL</li></ul>',\n",
       " '<ul><li>Dataset-DMP</li></ul>',\n",
       " '<ul><li>Id</li></ul>',\n",
       " '<ul><li>License</li></ul>']"
      ]
     },
     "execution_count": 137,
     "metadata": {},
     "output_type": "execute_result"
    }
   ],
   "source": [
    "last12_list"
   ]
  },
  {
   "cell_type": "code",
   "execution_count": 4,
   "id": "52282202",
   "metadata": {},
   "outputs": [],
   "source": [
    "import os\n",
    "names = os.listdir('/Users/dhwani/ZBMED/maSPMs/docs/class_proprerty_relationship')\n",
    "class_links=[]\n",
    "list_of = []\n",
    "for i in names:\n",
    "    link = '(class_proprerty_relationship/' +  i +')'\n",
    "    s = i.split('.')[0]\n",
    "    list_of.append(s)\n",
    "    class_links.append(link)\n"
   ]
  },
  {
   "cell_type": "code",
   "execution_count": 5,
   "id": "6e43816f",
   "metadata": {},
   "outputs": [],
   "source": [
    "dictionaryof_classlinks = dict(zip(class_links, list_of))"
   ]
  },
  {
   "cell_type": "code",
   "execution_count": 6,
   "id": "6c9b2cdf",
   "metadata": {},
   "outputs": [
    {
     "data": {
      "text/plain": [
       "{'(class_proprerty_relationship/Agent.md)': 'Agent',\n",
       " '(class_proprerty_relationship/Text.md)': 'Text',\n",
       " '(class_proprerty_relationship/License.md)': 'License',\n",
       " '(class_proprerty_relationship/SoftwareApplication.md)': 'SoftwareApplication',\n",
       " '(class_proprerty_relationship/URL.md)': 'URL',\n",
       " '(class_proprerty_relationship/FormalParameter.md)': 'FormalParameter',\n",
       " '(class_proprerty_relationship/TestAction.md)': 'TestAction',\n",
       " '(class_proprerty_relationship/Date.md)': 'Date',\n",
       " '(class_proprerty_relationship/DataType.md)': 'DataType',\n",
       " '(class_proprerty_relationship/SoftwareSourceCode.md)': 'SoftwareSourceCode',\n",
       " '(class_proprerty_relationship/PropertyValue.md)': 'PropertyValue',\n",
       " '(class_proprerty_relationship/Dataset-SMP.md)': 'Dataset-SMP',\n",
       " '(class_proprerty_relationship/DefinedTerm.md)': 'DefinedTerm',\n",
       " '(class_proprerty_relationship/CreativeWork.md)': 'CreativeWork',\n",
       " '(class_proprerty_relationship/Id.md)': 'Id',\n",
       " '(class_proprerty_relationship/Export of entity selection.md)': 'Export of entity selection',\n",
       " '(class_proprerty_relationship/Person.md)': 'Person',\n",
       " '(class_proprerty_relationship/Intangible.md)': 'Intangible',\n",
       " '(class_proprerty_relationship/SMP.md)': 'SMP',\n",
       " '(class_proprerty_relationship/Dataset-DMP.md)': 'Dataset-DMP',\n",
       " '(class_proprerty_relationship/Documentation.md)': 'Documentation',\n",
       " '(class_proprerty_relationship/LearningResource.md)': 'LearningResource',\n",
       " '(class_proprerty_relationship/Action.md)': 'Action',\n",
       " '(class_proprerty_relationship/Boolean.md)': 'Boolean',\n",
       " '(class_proprerty_relationship/Organization.md)': 'Organization'}"
      ]
     },
     "execution_count": 6,
     "metadata": {},
     "output_type": "execute_result"
    }
   ],
   "source": [
    "dictionaryof_classlinks"
   ]
  },
  {
   "cell_type": "code",
   "execution_count": 7,
   "id": "4ac0f633",
   "metadata": {},
   "outputs": [
    {
     "data": {
      "text/plain": [
       "['(class_proprerty_relationship/Agent.md)',\n",
       " '(class_proprerty_relationship/Text.md)',\n",
       " '(class_proprerty_relationship/License.md)',\n",
       " '(class_proprerty_relationship/SoftwareApplication.md)',\n",
       " '(class_proprerty_relationship/URL.md)',\n",
       " '(class_proprerty_relationship/FormalParameter.md)',\n",
       " '(class_proprerty_relationship/TestAction.md)',\n",
       " '(class_proprerty_relationship/Date.md)',\n",
       " '(class_proprerty_relationship/DataType.md)',\n",
       " '(class_proprerty_relationship/SoftwareSourceCode.md)',\n",
       " '(class_proprerty_relationship/PropertyValue.md)',\n",
       " '(class_proprerty_relationship/Dataset-SMP.md)',\n",
       " '(class_proprerty_relationship/DefinedTerm.md)',\n",
       " '(class_proprerty_relationship/CreativeWork.md)',\n",
       " '(class_proprerty_relationship/Id.md)',\n",
       " '(class_proprerty_relationship/Export of entity selection.md)',\n",
       " '(class_proprerty_relationship/Person.md)',\n",
       " '(class_proprerty_relationship/Intangible.md)',\n",
       " '(class_proprerty_relationship/SMP.md)',\n",
       " '(class_proprerty_relationship/Dataset-DMP.md)',\n",
       " '(class_proprerty_relationship/Documentation.md)',\n",
       " '(class_proprerty_relationship/LearningResource.md)',\n",
       " '(class_proprerty_relationship/Action.md)',\n",
       " '(class_proprerty_relationship/Boolean.md)',\n",
       " '(class_proprerty_relationship/Organization.md)']"
      ]
     },
     "execution_count": 7,
     "metadata": {},
     "output_type": "execute_result"
    }
   ],
   "source": [
    "class_links"
   ]
  },
  {
   "cell_type": "code",
   "execution_count": 8,
   "id": "a182bdc1",
   "metadata": {},
   "outputs": [],
   "source": [
    "list2=[]\n",
    "\n",
    "html_str= \"\"\"## Classes <br>\n",
    "\"\"\"\n",
    "\n",
    "\n",
    "html_str2 = \"\"\"</td></table>\"\"\"\n",
    "\n",
    "\n",
    "\n",
    "for k, v in dictionaryof_classlinks.items():\n",
    "#     ex = '<ul><li><a href=\"' + k + '\"' +'>' + v + '</a></li></ul>'\n",
    "    ex = '['+ v + ']'+ k\n",
    "    list2.append(str(ex))\n"
   ]
  },
  {
   "cell_type": "code",
   "execution_count": 9,
   "id": "2d8c301a",
   "metadata": {},
   "outputs": [
    {
     "data": {
      "text/plain": [
       "['[Agent](class_proprerty_relationship/Agent.md)',\n",
       " '[Text](class_proprerty_relationship/Text.md)',\n",
       " '[License](class_proprerty_relationship/License.md)',\n",
       " '[SoftwareApplication](class_proprerty_relationship/SoftwareApplication.md)',\n",
       " '[URL](class_proprerty_relationship/URL.md)',\n",
       " '[FormalParameter](class_proprerty_relationship/FormalParameter.md)',\n",
       " '[TestAction](class_proprerty_relationship/TestAction.md)',\n",
       " '[Date](class_proprerty_relationship/Date.md)',\n",
       " '[DataType](class_proprerty_relationship/DataType.md)',\n",
       " '[SoftwareSourceCode](class_proprerty_relationship/SoftwareSourceCode.md)',\n",
       " '[PropertyValue](class_proprerty_relationship/PropertyValue.md)',\n",
       " '[Dataset-SMP](class_proprerty_relationship/Dataset-SMP.md)',\n",
       " '[DefinedTerm](class_proprerty_relationship/DefinedTerm.md)',\n",
       " '[CreativeWork](class_proprerty_relationship/CreativeWork.md)',\n",
       " '[Id](class_proprerty_relationship/Id.md)',\n",
       " '[Export of entity selection](class_proprerty_relationship/Export of entity selection.md)',\n",
       " '[Person](class_proprerty_relationship/Person.md)',\n",
       " '[Intangible](class_proprerty_relationship/Intangible.md)',\n",
       " '[SMP](class_proprerty_relationship/SMP.md)',\n",
       " '[Dataset-DMP](class_proprerty_relationship/Dataset-DMP.md)',\n",
       " '[Documentation](class_proprerty_relationship/Documentation.md)',\n",
       " '[LearningResource](class_proprerty_relationship/LearningResource.md)',\n",
       " '[Action](class_proprerty_relationship/Action.md)',\n",
       " '[Boolean](class_proprerty_relationship/Boolean.md)',\n",
       " '[Organization](class_proprerty_relationship/Organization.md)']"
      ]
     },
     "execution_count": 9,
     "metadata": {},
     "output_type": "execute_result"
    }
   ],
   "source": [
    "list2"
   ]
  },
  {
   "cell_type": "code",
   "execution_count": 10,
   "id": "13e35025",
   "metadata": {},
   "outputs": [],
   "source": [
    "classlink= ''.join(list2)"
   ]
  },
  {
   "cell_type": "code",
   "execution_count": 11,
   "id": "5d896e22",
   "metadata": {},
   "outputs": [],
   "source": [
    "join_class = html_str + classlink"
   ]
  },
  {
   "cell_type": "code",
   "execution_count": 12,
   "id": "7d9e31c9",
   "metadata": {},
   "outputs": [
    {
     "data": {
      "text/plain": [
       "'## Classes <br>\\n[Agent](class_proprerty_relationship/Agent.md)[Text](class_proprerty_relationship/Text.md)[License](class_proprerty_relationship/License.md)[SoftwareApplication](class_proprerty_relationship/SoftwareApplication.md)[URL](class_proprerty_relationship/URL.md)[FormalParameter](class_proprerty_relationship/FormalParameter.md)[TestAction](class_proprerty_relationship/TestAction.md)[Date](class_proprerty_relationship/Date.md)[DataType](class_proprerty_relationship/DataType.md)[SoftwareSourceCode](class_proprerty_relationship/SoftwareSourceCode.md)[PropertyValue](class_proprerty_relationship/PropertyValue.md)[Dataset-SMP](class_proprerty_relationship/Dataset-SMP.md)[DefinedTerm](class_proprerty_relationship/DefinedTerm.md)[CreativeWork](class_proprerty_relationship/CreativeWork.md)[Id](class_proprerty_relationship/Id.md)[Export of entity selection](class_proprerty_relationship/Export of entity selection.md)[Person](class_proprerty_relationship/Person.md)[Intangible](class_proprerty_relationship/Intangible.md)[SMP](class_proprerty_relationship/SMP.md)[Dataset-DMP](class_proprerty_relationship/Dataset-DMP.md)[Documentation](class_proprerty_relationship/Documentation.md)[LearningResource](class_proprerty_relationship/LearningResource.md)[Action](class_proprerty_relationship/Action.md)[Boolean](class_proprerty_relationship/Boolean.md)[Organization](class_proprerty_relationship/Organization.md)'"
      ]
     },
     "execution_count": 12,
     "metadata": {},
     "output_type": "execute_result"
    }
   ],
   "source": [
    "join_class"
   ]
  },
  {
   "cell_type": "code",
   "execution_count": 13,
   "id": "9743876c",
   "metadata": {},
   "outputs": [],
   "source": [
    "new_html = join_class.replace(\"\\n\", \"\")"
   ]
  },
  {
   "cell_type": "code",
   "execution_count": 14,
   "id": "5efd68b8",
   "metadata": {},
   "outputs": [],
   "source": [
    "import markdown\n",
    "path = r'/Users/dhwani/ZBMED/maSPMs/docs/'\n",
    "with open (path+ 'Types.md', 'bw+') as f:\n",
    "    \n",
    "#     for i in list2:\n",
    "    f.write('{}\\n'. format(new_html).encode(\"utf-8\"))\n",
    "    f.seek(0)\n",
    "    markdown.markdownFromFile(input=f, output='class_list.html')"
   ]
  },
  {
   "cell_type": "markdown",
   "id": "bf9644e6",
   "metadata": {},
   "source": [
    "## Creating ObjectProperties"
   ]
  },
  {
   "cell_type": "code",
   "execution_count": 147,
   "id": "324f8edc",
   "metadata": {},
   "outputs": [],
   "source": [
    "po_set = list(onto.object_properties())\n",
    "prop_list = list(po_set)"
   ]
  },
  {
   "cell_type": "code",
   "execution_count": 148,
   "id": "4f33f307",
   "metadata": {},
   "outputs": [],
   "source": [
    "obj_list = []\n",
    "for item in prop_list:\n",
    "    obj_list.append(str(item)) "
   ]
  },
  {
   "cell_type": "code",
   "execution_count": 149,
   "id": "d506c1b7",
   "metadata": {},
   "outputs": [],
   "source": [
    "obj = []\n",
    "for i in obj_list:\n",
    "    x = i.split('.')[-1]\n",
    "    obj.append(x) \n",
    "    "
   ]
  },
  {
   "cell_type": "code",
   "execution_count": 150,
   "id": "cf000fa3",
   "metadata": {},
   "outputs": [],
   "source": [
    "import pandas as pd\n",
    "import csv\n",
    "# Read the CSV file\n",
    "csv_file = pd.read_csv(\"/Users/dhwani/Downloads/masamp.csv\")"
   ]
  },
  {
   "cell_type": "code",
   "execution_count": 151,
   "id": "90d3350d",
   "metadata": {},
   "outputs": [],
   "source": [
    "col_list = csv_file.columns\n",
    "list_op = [ elem for elem in col_list if elem.startswith('http')]"
   ]
  },
  {
   "cell_type": "code",
   "execution_count": 152,
   "id": "7400e237",
   "metadata": {
    "scrolled": true
   },
   "outputs": [
    {
     "data": {
      "text/plain": [
       "['http://ncicb.nci.nih.gov/xml/owl/EVS/Thesaurus.owl#C174132',\n",
       " 'http://ncicb.nci.nih.gov/xml/owl/EVS/Thesaurus.owl#C25634',\n",
       " 'http://www.semanticweb.org/oxg/ontologies/2023/1/maSMP#endToEndTesting',\n",
       " 'http://www.semanticweb.org/oxg/ontologies/2023/1/maSMP#frontEndTesting',\n",
       " 'http://www.semanticweb.org/oxg/ontologies/2023/1/maSMP#functionalTesting',\n",
       " 'http://www.semanticweb.org/oxg/ontologies/2023/1/maSMP#hasAPIDocumentation',\n",
       " 'http://www.semanticweb.org/oxg/ontologies/2023/1/maSMP#hasChangelog',\n",
       " 'http://www.semanticweb.org/oxg/ontologies/2023/1/maSMP#hasDeveloperDocumentation',\n",
       " 'http://www.semanticweb.org/oxg/ontologies/2023/1/maSMP#hasDocstring',\n",
       " 'http://www.semanticweb.org/oxg/ontologies/2023/1/maSMP#hasLearningResource',\n",
       " 'http://www.semanticweb.org/oxg/ontologies/2023/1/maSMP#hasReadme',\n",
       " 'http://www.semanticweb.org/oxg/ontologies/2023/1/maSMP#hasSoftwareSourceCode',\n",
       " 'http://www.semanticweb.org/oxg/ontologies/2023/1/maSMP#hasUserDocumentation',\n",
       " 'http://www.semanticweb.org/oxg/ontologies/2023/1/maSMP#hasVersionControlSystem',\n",
       " 'http://www.semanticweb.org/oxg/ontologies/2023/1/maSMP#integrationTesting',\n",
       " 'http://www.semanticweb.org/oxg/ontologies/2023/1/maSMP#limitation',\n",
       " 'http://www.semanticweb.org/oxg/ontologies/2023/1/maSMP#lintingTesting',\n",
       " 'http://www.semanticweb.org/oxg/ontologies/2023/1/maSMP#problem',\n",
       " 'http://www.semanticweb.org/oxg/ontologies/2023/1/maSMP#regressionTesting',\n",
       " 'http://www.semanticweb.org/oxg/ontologies/2023/1/maSMP#testType',\n",
       " 'http://www.semanticweb.org/oxg/ontologies/2023/1/maSMP#testedWith',\n",
       " 'http://www.semanticweb.org/oxg/ontologies/2023/1/maSMP#unitTesting',\n",
       " 'https://bioschemas.org/input',\n",
       " 'https://bioschemas.org/output',\n",
       " 'https://schema.org/agent',\n",
       " 'https://schema.org/archivedAt',\n",
       " 'https://schema.org/audience',\n",
       " 'https://schema.org/author',\n",
       " 'https://schema.org/citation',\n",
       " 'https://schema.org/codeRepository',\n",
       " 'https://schema.org/conditionsOfAccess',\n",
       " 'https://schema.org/contributor',\n",
       " 'https://schema.org/dateCreated',\n",
       " 'https://schema.org/dateModified',\n",
       " 'https://schema.org/description',\n",
       " 'https://schema.org/discussionUrl',\n",
       " 'https://schema.org/email',\n",
       " 'https://schema.org/identifier',\n",
       " 'https://schema.org/isAccessibleForFree',\n",
       " 'https://schema.org/keywords',\n",
       " 'https://schema.org/license',\n",
       " 'https://schema.org/memoryRequirements',\n",
       " 'https://schema.org/name',\n",
       " 'https://schema.org/operatingSystem',\n",
       " 'https://schema.org/processorRequirements',\n",
       " 'https://schema.org/programmingLanguage',\n",
       " 'https://schema.org/releaseNotes',\n",
       " 'https://schema.org/softwareRequirements',\n",
       " 'https://schema.org/storageRequirements',\n",
       " 'https://schema.org/supportingData',\n",
       " 'https://schema.org/targetProduct',\n",
       " 'https://schema.org/url',\n",
       " 'https://schema.org/usageInfo',\n",
       " 'https://schema.org/version',\n",
       " 'https://w3id.org/dcso/ns/core#hasContact',\n",
       " 'https://w3id.org/dcso/ns/core#hasContributor',\n",
       " 'https://w3id.org/dcso/ns/core#hasId',\n",
       " 'https://w3id.org/dcso/ns/core#hasLicense',\n",
       " 'http://www.w3.org/2000/01/rdf-schema#comment',\n",
       " 'http://www.w3.org/2000/01/rdf-schema#isDefinedBy',\n",
       " 'http://www.w3.org/2000/01/rdf-schema#label',\n",
       " 'http://www.w3.org/2000/01/rdf-schema#seeAlso',\n",
       " 'http://www.w3.org/2002/07/owl#versionInfo']"
      ]
     },
     "execution_count": 152,
     "metadata": {},
     "output_type": "execute_result"
    }
   ],
   "source": [
    "list_op"
   ]
  },
  {
   "cell_type": "code",
   "execution_count": 47,
   "id": "6794d95b",
   "metadata": {},
   "outputs": [],
   "source": [
    "import re\n"
   ]
  },
  {
   "cell_type": "code",
   "execution_count": 153,
   "id": "59ae164a",
   "metadata": {},
   "outputs": [],
   "source": [
    "op = []\n",
    "for i in list_op:\n",
    "    e= i.split('/')[-1].split('#')[-1]\n",
    "    op.append(e)\n",
    "    "
   ]
  },
  {
   "cell_type": "code",
   "execution_count": 154,
   "id": "7b4569a6",
   "metadata": {},
   "outputs": [],
   "source": [
    "obj_prop_dict = dict(zip(list_op, op))"
   ]
  },
  {
   "cell_type": "code",
   "execution_count": 155,
   "id": "72f4367e",
   "metadata": {
    "scrolled": true
   },
   "outputs": [
    {
     "data": {
      "text/plain": [
       "{'http://ncicb.nci.nih.gov/xml/owl/EVS/Thesaurus.owl#C174132': 'C174132',\n",
       " 'http://ncicb.nci.nih.gov/xml/owl/EVS/Thesaurus.owl#C25634': 'C25634',\n",
       " 'http://www.semanticweb.org/oxg/ontologies/2023/1/maSMP#endToEndTesting': 'endToEndTesting',\n",
       " 'http://www.semanticweb.org/oxg/ontologies/2023/1/maSMP#frontEndTesting': 'frontEndTesting',\n",
       " 'http://www.semanticweb.org/oxg/ontologies/2023/1/maSMP#functionalTesting': 'functionalTesting',\n",
       " 'http://www.semanticweb.org/oxg/ontologies/2023/1/maSMP#hasAPIDocumentation': 'hasAPIDocumentation',\n",
       " 'http://www.semanticweb.org/oxg/ontologies/2023/1/maSMP#hasChangelog': 'hasChangelog',\n",
       " 'http://www.semanticweb.org/oxg/ontologies/2023/1/maSMP#hasDeveloperDocumentation': 'hasDeveloperDocumentation',\n",
       " 'http://www.semanticweb.org/oxg/ontologies/2023/1/maSMP#hasDocstring': 'hasDocstring',\n",
       " 'http://www.semanticweb.org/oxg/ontologies/2023/1/maSMP#hasLearningResource': 'hasLearningResource',\n",
       " 'http://www.semanticweb.org/oxg/ontologies/2023/1/maSMP#hasReadme': 'hasReadme',\n",
       " 'http://www.semanticweb.org/oxg/ontologies/2023/1/maSMP#hasSoftwareSourceCode': 'hasSoftwareSourceCode',\n",
       " 'http://www.semanticweb.org/oxg/ontologies/2023/1/maSMP#hasUserDocumentation': 'hasUserDocumentation',\n",
       " 'http://www.semanticweb.org/oxg/ontologies/2023/1/maSMP#hasVersionControlSystem': 'hasVersionControlSystem',\n",
       " 'http://www.semanticweb.org/oxg/ontologies/2023/1/maSMP#integrationTesting': 'integrationTesting',\n",
       " 'http://www.semanticweb.org/oxg/ontologies/2023/1/maSMP#limitation': 'limitation',\n",
       " 'http://www.semanticweb.org/oxg/ontologies/2023/1/maSMP#lintingTesting': 'lintingTesting',\n",
       " 'http://www.semanticweb.org/oxg/ontologies/2023/1/maSMP#problem': 'problem',\n",
       " 'http://www.semanticweb.org/oxg/ontologies/2023/1/maSMP#regressionTesting': 'regressionTesting',\n",
       " 'http://www.semanticweb.org/oxg/ontologies/2023/1/maSMP#testType': 'testType',\n",
       " 'http://www.semanticweb.org/oxg/ontologies/2023/1/maSMP#testedWith': 'testedWith',\n",
       " 'http://www.semanticweb.org/oxg/ontologies/2023/1/maSMP#unitTesting': 'unitTesting',\n",
       " 'https://bioschemas.org/input': 'input',\n",
       " 'https://bioschemas.org/output': 'output',\n",
       " 'https://schema.org/agent': 'agent',\n",
       " 'https://schema.org/archivedAt': 'archivedAt',\n",
       " 'https://schema.org/audience': 'audience',\n",
       " 'https://schema.org/author': 'author',\n",
       " 'https://schema.org/citation': 'citation',\n",
       " 'https://schema.org/codeRepository': 'codeRepository',\n",
       " 'https://schema.org/conditionsOfAccess': 'conditionsOfAccess',\n",
       " 'https://schema.org/contributor': 'contributor',\n",
       " 'https://schema.org/dateCreated': 'dateCreated',\n",
       " 'https://schema.org/dateModified': 'dateModified',\n",
       " 'https://schema.org/description': 'description',\n",
       " 'https://schema.org/discussionUrl': 'discussionUrl',\n",
       " 'https://schema.org/email': 'email',\n",
       " 'https://schema.org/identifier': 'identifier',\n",
       " 'https://schema.org/isAccessibleForFree': 'isAccessibleForFree',\n",
       " 'https://schema.org/keywords': 'keywords',\n",
       " 'https://schema.org/license': 'license',\n",
       " 'https://schema.org/memoryRequirements': 'memoryRequirements',\n",
       " 'https://schema.org/name': 'name',\n",
       " 'https://schema.org/operatingSystem': 'operatingSystem',\n",
       " 'https://schema.org/processorRequirements': 'processorRequirements',\n",
       " 'https://schema.org/programmingLanguage': 'programmingLanguage',\n",
       " 'https://schema.org/releaseNotes': 'releaseNotes',\n",
       " 'https://schema.org/softwareRequirements': 'softwareRequirements',\n",
       " 'https://schema.org/storageRequirements': 'storageRequirements',\n",
       " 'https://schema.org/supportingData': 'supportingData',\n",
       " 'https://schema.org/targetProduct': 'targetProduct',\n",
       " 'https://schema.org/url': 'url',\n",
       " 'https://schema.org/usageInfo': 'usageInfo',\n",
       " 'https://schema.org/version': 'version',\n",
       " 'https://w3id.org/dcso/ns/core#hasContact': 'hasContact',\n",
       " 'https://w3id.org/dcso/ns/core#hasContributor': 'hasContributor',\n",
       " 'https://w3id.org/dcso/ns/core#hasId': 'hasId',\n",
       " 'https://w3id.org/dcso/ns/core#hasLicense': 'hasLicense',\n",
       " 'http://www.w3.org/2000/01/rdf-schema#comment': 'comment',\n",
       " 'http://www.w3.org/2000/01/rdf-schema#isDefinedBy': 'isDefinedBy',\n",
       " 'http://www.w3.org/2000/01/rdf-schema#label': 'label',\n",
       " 'http://www.w3.org/2000/01/rdf-schema#seeAlso': 'seeAlso',\n",
       " 'http://www.w3.org/2002/07/owl#versionInfo': 'versionInfo'}"
      ]
     },
     "execution_count": 155,
     "metadata": {},
     "output_type": "execute_result"
    }
   ],
   "source": [
    "obj_prop_dict"
   ]
  },
  {
   "cell_type": "code",
   "execution_count": 157,
   "id": "2aa9b083",
   "metadata": {},
   "outputs": [],
   "source": [
    "new_op_list=[]\n",
    "html_str3= \"\"\"<h4><u><b>Object Properties</h4></u></b>\n",
    "    \"\"\"\n",
    "    \n",
    "html_str4 = \"\"\"</td>\n",
    "    </td><td valign=\"top\">\n",
    "    <img src=\"/Users/dhwani/SMP/maSPMs/mkdoc/docs/timeline.png\" alt=\" \" style=\"height: 400px; width:650;\"/>\n",
    "    <br>\n",
    "    </td>\n",
    "    </table>\"\"\"\n",
    "\n",
    "for k, v in obj_prop_dict.items():\n",
    "    ex = '<ul><li><a href=\"' + k+ '\"' +'>'+ v + '</a></li></ul>'\n",
    "    \n",
    "    new_op_list.append(str(ex))\n",
    "   "
   ]
  },
  {
   "cell_type": "code",
   "execution_count": 158,
   "id": "4b737ca4",
   "metadata": {},
   "outputs": [],
   "source": [
    "oplink= ''.join(new_op_list)"
   ]
  },
  {
   "cell_type": "code",
   "execution_count": 159,
   "id": "c0e1a3e3",
   "metadata": {},
   "outputs": [],
   "source": [
    "join_op = html_str3 + oplink"
   ]
  },
  {
   "cell_type": "code",
   "execution_count": 160,
   "id": "12a34f2a",
   "metadata": {},
   "outputs": [],
   "source": [
    "new_html_op = join_op.replace(\"\\n\", \"\")"
   ]
  },
  {
   "cell_type": "code",
   "execution_count": 161,
   "id": "9174ea4a",
   "metadata": {},
   "outputs": [],
   "source": [
    "import markdown\n",
    "path = r'/Users/dhwani/ZBMED/maSPMs/docs/'\n",
    "with open (path+ 'ObjectProperty.md', 'bw+') as f:\n",
    "    \n",
    "#     for i in list2:\n",
    "    f.write('{}\\n'. format(new_html_op).encode(\"utf-8\"))\n",
    "    f.seek(0)\n",
    "    markdown.markdownFromFile(input=f, output='ObjProp_list.html')"
   ]
  },
  {
   "cell_type": "code",
   "execution_count": null,
   "id": "1b637e2b",
   "metadata": {},
   "outputs": [],
   "source": []
  },
  {
   "cell_type": "code",
   "execution_count": null,
   "id": "740ecf0f",
   "metadata": {},
   "outputs": [],
   "source": []
  },
  {
   "cell_type": "code",
   "execution_count": null,
   "id": "17c0ad88",
   "metadata": {},
   "outputs": [],
   "source": []
  }
 ],
 "metadata": {
  "kernelspec": {
   "display_name": "Python 3 (ipykernel)",
   "language": "python",
   "name": "python3"
  },
  "language_info": {
   "codemirror_mode": {
    "name": "ipython",
    "version": 3
   },
   "file_extension": ".py",
   "mimetype": "text/x-python",
   "name": "python",
   "nbconvert_exporter": "python",
   "pygments_lexer": "ipython3",
   "version": "3.9.13"
  }
 },
 "nbformat": 4,
 "nbformat_minor": 5
}
