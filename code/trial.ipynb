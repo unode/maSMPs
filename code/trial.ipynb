{
 "cells": [
  {
   "cell_type": "code",
   "execution_count": 1,
   "id": "b0aaabd1",
   "metadata": {},
   "outputs": [],
   "source": [
    "from rdfpandas.graph import to_dataframe\n",
    "from functools import reduce\n",
    "import pandas as pd\n",
    "import rdflib\n",
    "import numpy as np\n",
    "import warnings\n",
    "warnings.filterwarnings('error')\n",
    "import pandas as pd\n",
    "pd.options.mode.chained_assignment = None "
   ]
  },
  {
   "cell_type": "code",
   "execution_count": 2,
   "id": "18bd947c",
   "metadata": {},
   "outputs": [
    {
     "data": {
      "text/plain": [
       "get_ontology(\"http://www.semanticweb.org/oxg/ontologies/2023/1/maSMP#\")"
      ]
     },
     "execution_count": 2,
     "metadata": {},
     "output_type": "execute_result"
    }
   ],
   "source": [
    "from owlready2 import *\n",
    "from owlready2 import *\n",
    "\n",
    "onto = get_ontology('/Users/dhwani/ZBMED/code/maSMP.owl')\n",
    "onto.load()"
   ]
  },
  {
   "cell_type": "code",
   "execution_count": 10,
   "id": "0e4d9937",
   "metadata": {},
   "outputs": [
    {
     "ename": "AttributeError",
     "evalue": "'NoneType' object has no attribute 'domain'",
     "output_type": "error",
     "traceback": [
      "\u001b[0;31m---------------------------------------------------------------------------\u001b[0m",
      "\u001b[0;31mAttributeError\u001b[0m                            Traceback (most recent call last)",
      "\u001b[0;32m/var/folders/6j/45yc_fx11_55vjbvxqw2x0740000gn/T/ipykernel_47495/2948574365.py\u001b[0m in \u001b[0;36m<module>\u001b[0;34m\u001b[0m\n\u001b[0;32m----> 1\u001b[0;31m \u001b[0monto\u001b[0m\u001b[0;34m.\u001b[0m\u001b[0mprogrammingLanguage\u001b[0m\u001b[0;34m.\u001b[0m\u001b[0mdomain\u001b[0m\u001b[0;34m\u001b[0m\u001b[0;34m\u001b[0m\u001b[0m\n\u001b[0m",
      "\u001b[0;31mAttributeError\u001b[0m: 'NoneType' object has no attribute 'domain'"
     ]
    }
   ],
   "source": []
  },
  {
   "cell_type": "code",
   "execution_count": 33,
   "id": "ed92aeaa",
   "metadata": {
    "scrolled": true
   },
   "outputs": [
    {
     "name": "stdout",
     "output_type": "stream",
     "text": [
      "    <!-- \n",
      "\n",
      "    <!-- http://ncicb.nci.nih.gov/xml/owl/EVS/Thesaurus.owl#C174132 -->\n",
      "\n",
      "    <!-- http://ncicb.nci.nih.gov/xml/owl/EVS/Thesaurus.owl#C25634 -->\n",
      "\n",
      "    <!-- http://www.semanticweb.org/oxg/ontologies/2023/1/maSMP#endToEndTesting -->\n",
      "\n",
      "    <!-- http://www.semanticweb.org/oxg/ontologies/2023/1/maSMP#frontEndTesting -->\n",
      "\n",
      "    <!-- http://www.semanticweb.org/oxg/ontologies/2023/1/maSMP#functionalTesting -->\n",
      "\n",
      "    <!-- http://www.semanticweb.org/oxg/ontologies/2023/1/maSMP#hasAPIDocumentation -->\n",
      "\n",
      "    <!-- http://www.semanticweb.org/oxg/ontologies/2023/1/maSMP#hasChangelog -->\n",
      "\n",
      "    <!-- http://www.semanticweb.org/oxg/ontologies/2023/1/maSMP#hasDeveloperDocumentation -->\n",
      "\n",
      "    <!-- http://www.semanticweb.org/oxg/ontologies/2023/1/maSMP#hasDocstring -->\n",
      "\n",
      "    <!-- http://www.semanticweb.org/oxg/ontologies/2023/1/maSMP#hasLearningResource -->\n",
      "\n",
      "    <!-- http://www.semanticweb.org/oxg/ontologies/2023/1/maSMP#hasReadme -->\n",
      "\n",
      "    <!-- http://www.semanticweb.org/oxg/ontologies/2023/1/maSMP#hasSoftwareSourceCode -->\n",
      "\n",
      "    <!-- http://www.semanticweb.org/oxg/ontologies/2023/1/maSMP#hasUserDocumentation -->\n",
      "\n",
      "    <!-- http://www.semanticweb.org/oxg/ontologies/2023/1/maSMP#hasVersionControlSystem -->\n",
      "\n",
      "    <!-- http://www.semanticweb.org/oxg/ontologies/2023/1/maSMP#integrationTesting -->\n",
      "\n",
      "    <!-- http://www.semanticweb.org/oxg/ontologies/2023/1/maSMP#limitation -->\n",
      "\n",
      "    <!-- http://www.semanticweb.org/oxg/ontologies/2023/1/maSMP#lintingTesting -->\n",
      "\n",
      "    <!-- http://www.semanticweb.org/oxg/ontologies/2023/1/maSMP#problem -->\n",
      "\n",
      "    <!-- http://www.semanticweb.org/oxg/ontologies/2023/1/maSMP#regressionTesting -->\n",
      "\n",
      "    <!-- http://www.semanticweb.org/oxg/ontologies/2023/1/maSMP#testType -->\n",
      "\n",
      "    <!-- http://www.semanticweb.org/oxg/ontologies/2023/1/maSMP#testedWith -->\n",
      "\n",
      "    <!-- http://www.semanticweb.org/oxg/ontologies/2023/1/maSMP#unitTesting -->\n",
      "\n",
      "    <!-- https://bioschemas.org/input -->\n",
      "\n",
      "    <!-- https://bioschemas.org/output -->\n",
      "\n",
      "    <!-- https://schema.org/agent -->\n",
      "\n",
      "    <!-- https://schema.org/archivedAt -->\n",
      "\n",
      "    <!-- https://schema.org/audience -->\n",
      "\n",
      "    <!-- https://schema.org/author -->\n",
      "\n",
      "    <!-- https://schema.org/citation -->\n",
      "\n",
      "    <!-- https://schema.org/codeRepository -->\n",
      "\n",
      "    <!-- https://schema.org/conditionsOfAccess -->\n",
      "\n",
      "    <!-- https://schema.org/contributor -->\n",
      "\n",
      "    <!-- https://schema.org/dateCreated -->\n",
      "\n",
      "    <!-- https://schema.org/dateModified -->\n",
      "\n",
      "    <!-- https://schema.org/description -->\n",
      "\n",
      "    <!-- https://schema.org/discussionUrl -->\n",
      "\n",
      "    <!-- https://schema.org/email -->\n",
      "\n",
      "    <!-- https://schema.org/identifier -->\n",
      "\n",
      "    <!-- https://schema.org/isAccessibleForFree -->\n",
      "\n",
      "    <!-- https://schema.org/keywords -->\n",
      "\n",
      "    <!-- https://schema.org/license -->\n",
      "\n",
      "    <!-- https://schema.org/memoryRequirements -->\n",
      "\n",
      "    <!-- https://schema.org/name -->\n",
      "\n",
      "    <!-- https://schema.org/operatingSystem -->\n",
      "\n",
      "    <!-- https://schema.org/processorRequirements -->\n",
      "\n",
      "    <!-- https://schema.org/programmingLanguage -->\n",
      "\n",
      "    <!-- https://schema.org/releaseNotes -->\n",
      "\n",
      "    <!-- https://schema.org/softwareRequirements -->\n",
      "\n",
      "    <!-- https://schema.org/storageRequirements -->\n",
      "\n",
      "    <!-- https://schema.org/supportingData -->\n",
      "\n",
      "    <!-- https://schema.org/targetProduct -->\n",
      "\n",
      "    <!-- https://schema.org/url -->\n",
      "\n",
      "    <!-- https://schema.org/usageInfo -->\n",
      "\n",
      "    <!-- https://schema.org/version -->\n",
      "\n",
      "    <!-- https://w3id.org/dcso/ns/core#hasContact -->\n",
      "\n",
      "    <!-- https://w3id.org/dcso/ns/core#hasContributor -->\n",
      "\n",
      "    <!-- https://w3id.org/dcso/ns/core#hasId -->\n",
      "\n",
      "    <!-- https://w3id.org/dcso/ns/core#hasLicense -->\n",
      "\n",
      "    <!-- \n",
      "\n",
      "    <!-- http://www.semanticweb.org/oxg/ontologies/2023/1/maSMP#Documentation -->\n",
      "\n",
      "    <!-- http://www.semanticweb.org/oxg/ontologies/2023/1/maSMP#SMP -->\n",
      "\n",
      "    <!-- http://www.semanticweb.org/oxg/ontologies/2023/1/maSMP#TestAction -->\n",
      "\n",
      "    <!-- http://xmlns.com/foaf/0.1/Agent -->\n",
      "\n",
      "    <!-- https://bioschemas.org/FormalParameter -->\n",
      "\n",
      "    <!-- https://schema.org/Action -->\n",
      "\n",
      "    <!-- https://schema.org/Boolean -->\n",
      "\n",
      "    <!-- https://schema.org/CreativeWork -->\n",
      "\n",
      "    <!-- https://schema.org/DataType -->\n",
      "\n",
      "    <!-- https://schema.org/Dataset -->\n",
      "\n",
      "    <!-- https://schema.org/Date -->\n",
      "\n",
      "    <!-- https://schema.org/DefinedTerm -->\n",
      "\n",
      "    <!-- https://schema.org/Intangible -->\n",
      "\n",
      "    <!-- https://schema.org/LearningResource -->\n",
      "\n",
      "    <!-- https://schema.org/Organization -->\n",
      "\n",
      "    <!-- https://schema.org/Person -->\n",
      "\n",
      "    <!-- https://schema.org/PropertyValue -->\n",
      "\n",
      "    <!-- https://schema.org/SoftwareApplication -->\n",
      "\n",
      "    <!-- https://schema.org/SoftwareSourceCode -->\n",
      "\n",
      "    <!-- https://schema.org/Text -->\n",
      "\n",
      "    <!-- https://schema.org/URL -->\n",
      "\n",
      "    <!-- https://w3id.org/dcso/ns/core#Dataset -->\n",
      "\n",
      "    <!-- https://w3id.org/dcso/ns/core#Id -->\n",
      "\n",
      "    <!-- https://w3id.org/dcso/ns/core#License -->\n",
      "\n",
      "    <!-- \n",
      "\n",
      "    <!-- http://purl.org/coar/access_right/c_16ec -->\n",
      "\n",
      "    <!-- http://purl.org/coar/access_right/c_abf2 -->\n",
      "\n",
      "    <!-- http://purl.org/coar/access_right/c_f1cf -->\n",
      "\n",
      "    <!-- http://www.semanticweb.org/oxg/ontologies/2023/1/maSMP#unknown -->\n",
      "\n",
      "    <!-- http://www.semanticweb.org/oxg/ontologies/2023/1/maSMP#http://purl.org/coar/access_right/c_14cb -->\n",
      "\n",
      "<!-- Generated by the OWL API (version 4.5.9.2019-02-01T07:24:44Z) https://github.com/owlcs/owlapi -->\n",
      "\n"
     ]
    }
   ],
   "source": [
    "with open (\"/Users/dhwani/ZBMED/code/maSMP.owl\",'r') as f:\n",
    "    fp = f.readlines()\n",
    "    for i in fp:\n",
    "#         print(i)\n",
    "        if \"<!\" in i:\n",
    "            print(i)"
   ]
  },
  {
   "cell_type": "code",
   "execution_count": 42,
   "id": "947ffe0c",
   "metadata": {},
   "outputs": [],
   "source": [
    "r = list(default_world.sparql(\"\"\"\n",
    "           SELECT (?x AS ?nb)\n",
    "           { ?x a owl:Class . FILTER(ISIRI(?x)) }\n",
    "    \"\"\"))"
   ]
  },
  {
   "cell_type": "code",
   "execution_count": 41,
   "id": "616a5419",
   "metadata": {},
   "outputs": [
    {
     "ename": "AttributeError",
     "evalue": "'list' object has no attribute 'base_iri'",
     "output_type": "error",
     "traceback": [
      "\u001b[0;31m---------------------------------------------------------------------------\u001b[0m",
      "\u001b[0;31mAttributeError\u001b[0m                            Traceback (most recent call last)",
      "\u001b[0;32m/var/folders/6j/45yc_fx11_55vjbvxqw2x0740000gn/T/ipykernel_45814/3965451790.py\u001b[0m in \u001b[0;36m<module>\u001b[0;34m\u001b[0m\n\u001b[0;32m----> 1\u001b[0;31m \u001b[0mr\u001b[0m\u001b[0;34m.\u001b[0m\u001b[0mbase_iri\u001b[0m\u001b[0;34m(\u001b[0m\u001b[0;34m)\u001b[0m\u001b[0;34m\u001b[0m\u001b[0;34m\u001b[0m\u001b[0m\n\u001b[0m",
      "\u001b[0;31mAttributeError\u001b[0m: 'list' object has no attribute 'base_iri'"
     ]
    }
   ],
   "source": []
  },
  {
   "cell_type": "code",
   "execution_count": 3,
   "id": "ff2fdbc7",
   "metadata": {},
   "outputs": [],
   "source": [
    "gen_obj = onto.classes()"
   ]
  },
  {
   "cell_type": "code",
   "execution_count": 4,
   "id": "32294497",
   "metadata": {},
   "outputs": [
    {
     "data": {
      "text/plain": [
       "list"
      ]
     },
     "execution_count": 4,
     "metadata": {},
     "output_type": "execute_result"
    }
   ],
   "source": [
    "class_list = list(onto.classes())\n",
    "type(class_list)"
   ]
  },
  {
   "cell_type": "code",
   "execution_count": 5,
   "id": "72912088",
   "metadata": {},
   "outputs": [
    {
     "data": {
      "text/plain": [
       "[maSMP.Documentation,\n",
       " schema.org.Text,\n",
       " schema.org.SoftwareSourceCode,\n",
       " schema.org.SoftwareApplication,\n",
       " schema.org.LearningResource,\n",
       " schema.org.URL,\n",
       " maSMP.SMP,\n",
       " maSMP.TestAction,\n",
       " schema.org.DefinedTerm,\n",
       " bioschemas.org.FormalParameter,\n",
       " schema.org.Dataset,\n",
       " schema.org.Action,\n",
       " schema.org.Organization,\n",
       " schema.org.Person,\n",
       " schema.org.CreativeWork,\n",
       " schema.org.PropertyValue,\n",
       " schema.org.Date,\n",
       " 0.1.Agent,\n",
       " schema.org.Boolean,\n",
       " core.Id,\n",
       " core.License,\n",
       " schema.org.Intangible,\n",
       " schema.org.DataType,\n",
       " core.Dataset]"
      ]
     },
     "execution_count": 5,
     "metadata": {},
     "output_type": "execute_result"
    }
   ],
   "source": [
    "class_list"
   ]
  },
  {
   "cell_type": "code",
   "execution_count": 6,
   "id": "ee28a3b4",
   "metadata": {},
   "outputs": [],
   "source": [
    "new_list = []\n",
    "for item in class_list:\n",
    "    new_list.append(str(item))  "
   ]
  },
  {
   "cell_type": "code",
   "execution_count": 7,
   "id": "6502634c",
   "metadata": {},
   "outputs": [
    {
     "data": {
      "text/plain": [
       "['maSMP.Documentation',\n",
       " 'schema.org.Text',\n",
       " 'schema.org.SoftwareSourceCode',\n",
       " 'schema.org.SoftwareApplication',\n",
       " 'schema.org.LearningResource',\n",
       " 'schema.org.URL',\n",
       " 'maSMP.SMP',\n",
       " 'maSMP.TestAction',\n",
       " 'schema.org.DefinedTerm',\n",
       " 'bioschemas.org.FormalParameter',\n",
       " 'schema.org.Dataset',\n",
       " 'schema.org.Action',\n",
       " 'schema.org.Organization',\n",
       " 'schema.org.Person',\n",
       " 'schema.org.CreativeWork',\n",
       " 'schema.org.PropertyValue',\n",
       " 'schema.org.Date',\n",
       " '0.1.Agent',\n",
       " 'schema.org.Boolean',\n",
       " 'core.Id',\n",
       " 'core.License',\n",
       " 'schema.org.Intangible',\n",
       " 'schema.org.DataType',\n",
       " 'core.Dataset']"
      ]
     },
     "execution_count": 7,
     "metadata": {},
     "output_type": "execute_result"
    }
   ],
   "source": [
    "new_list"
   ]
  },
  {
   "cell_type": "code",
   "execution_count": 8,
   "id": "54e204ac",
   "metadata": {},
   "outputs": [
    {
     "name": "stdout",
     "output_type": "stream",
     "text": [
      "Documentation\n",
      "Text\n",
      "SoftwareSourceCode\n",
      "SoftwareApplication\n",
      "LearningResource\n",
      "URL\n",
      "SMP\n",
      "TestAction\n",
      "DefinedTerm\n",
      "FormalParameter\n",
      "Dataset\n",
      "Action\n",
      "Organization\n",
      "Person\n",
      "CreativeWork\n",
      "PropertyValue\n",
      "Date\n",
      "Agent\n",
      "Boolean\n",
      "Id\n",
      "License\n",
      "Intangible\n",
      "DataType\n",
      "Dataset\n"
     ]
    },
    {
     "data": {
      "text/plain": [
       "7"
      ]
     },
     "execution_count": 8,
     "metadata": {},
     "output_type": "execute_result"
    }
   ],
   "source": [
    "for i in new_list:\n",
    "    x = i.split('.')[-1]\n",
    "    \n",
    "    print(x)\n",
    "len(x)"
   ]
  },
  {
   "cell_type": "code",
   "execution_count": 9,
   "id": "efce9926",
   "metadata": {},
   "outputs": [],
   "source": [
    "def generate_graph(file_path):\n",
    "    \"\"\"\n",
    "    input: turtle file(.ttl)\n",
    "    output: graph\n",
    "    generating and serializing graph\n",
    "    \"\"\"\n",
    "    graph = rdflib.Graph()\n",
    "#     RDF_FILE = r'/Users/dhwani/Downloads/ontology.ttl'\n",
    "    graph.parse(file_path, format='turtle')\n",
    "    v = graph.serialize(format=\"ttl\")\n",
    "    return graph"
   ]
  },
  {
   "cell_type": "code",
   "execution_count": 10,
   "id": "633db8cd",
   "metadata": {},
   "outputs": [],
   "source": [
    "g1 = generate_graph('/Users/dhwani/Downloads/ontology.ttl')"
   ]
  },
  {
   "cell_type": "code",
   "execution_count": 11,
   "id": "f097b0e1",
   "metadata": {},
   "outputs": [],
   "source": [
    "q2=\"\"\"SELECT DISTINCT ?subject ?label ?supertype\n",
    "WHERE \n",
    "    {\n",
    "        ?subject a owl:Class .\n",
    "        OPTIONAL { ?subject rdfs:subClassOf ?supertype } .\n",
    "        OPTIONAL { ?subject rdfs:label ?label } .\n",
    "       \n",
    "    }\n",
    "\n",
    "\"\"\"\n",
    "pq = g1.query(q2)\n",
    "pd.DataFrame(pq.bindings)\n",
    "    # converts everything to strings including missing values\n",
    "pd.DataFrame(pq.bindings).applymap(str).rename(columns=str)\n",
    "# serialize with json and then parse (clobbers types, converting values to strings)\n",
    "import json\n",
    "results_json = pq.serialize(format=\"json\")\n",
    "bindings = json.loads(results_json)[\"results\"][\"bindings\"]\n",
    "bindings = [{k: v[\"value\"] for k, v in result.items()} for result in bindings]\n",
    "df2 = pd.DataFrame(bindings)\n",
    "# print(bindings)"
   ]
  },
  {
   "cell_type": "code",
   "execution_count": 12,
   "id": "a57ce5f2",
   "metadata": {
    "scrolled": true
   },
   "outputs": [
    {
     "data": {
      "text/html": [
       "<div>\n",
       "<style scoped>\n",
       "    .dataframe tbody tr th:only-of-type {\n",
       "        vertical-align: middle;\n",
       "    }\n",
       "\n",
       "    .dataframe tbody tr th {\n",
       "        vertical-align: top;\n",
       "    }\n",
       "\n",
       "    .dataframe thead th {\n",
       "        text-align: right;\n",
       "    }\n",
       "</style>\n",
       "<table border=\"1\" class=\"dataframe\">\n",
       "  <thead>\n",
       "    <tr style=\"text-align: right;\">\n",
       "      <th></th>\n",
       "      <th>subject</th>\n",
       "      <th>supertype</th>\n",
       "      <th>label</th>\n",
       "    </tr>\n",
       "  </thead>\n",
       "  <tbody>\n",
       "    <tr>\n",
       "      <th>0</th>\n",
       "      <td>nde62ec6685814d3abe51cbbe196b2910b1</td>\n",
       "      <td>NaN</td>\n",
       "      <td>NaN</td>\n",
       "    </tr>\n",
       "    <tr>\n",
       "      <th>1</th>\n",
       "      <td>nde62ec6685814d3abe51cbbe196b2910b4</td>\n",
       "      <td>NaN</td>\n",
       "      <td>NaN</td>\n",
       "    </tr>\n",
       "    <tr>\n",
       "      <th>2</th>\n",
       "      <td>nde62ec6685814d3abe51cbbe196b2910b7</td>\n",
       "      <td>NaN</td>\n",
       "      <td>NaN</td>\n",
       "    </tr>\n",
       "    <tr>\n",
       "      <th>3</th>\n",
       "      <td>nde62ec6685814d3abe51cbbe196b2910b10</td>\n",
       "      <td>NaN</td>\n",
       "      <td>NaN</td>\n",
       "    </tr>\n",
       "    <tr>\n",
       "      <th>4</th>\n",
       "      <td>nde62ec6685814d3abe51cbbe196b2910b13</td>\n",
       "      <td>NaN</td>\n",
       "      <td>NaN</td>\n",
       "    </tr>\n",
       "    <tr>\n",
       "      <th>5</th>\n",
       "      <td>nde62ec6685814d3abe51cbbe196b2910b17</td>\n",
       "      <td>NaN</td>\n",
       "      <td>NaN</td>\n",
       "    </tr>\n",
       "    <tr>\n",
       "      <th>6</th>\n",
       "      <td>nde62ec6685814d3abe51cbbe196b2910b20</td>\n",
       "      <td>NaN</td>\n",
       "      <td>NaN</td>\n",
       "    </tr>\n",
       "    <tr>\n",
       "      <th>7</th>\n",
       "      <td>nde62ec6685814d3abe51cbbe196b2910b23</td>\n",
       "      <td>NaN</td>\n",
       "      <td>NaN</td>\n",
       "    </tr>\n",
       "    <tr>\n",
       "      <th>8</th>\n",
       "      <td>nde62ec6685814d3abe51cbbe196b2910b26</td>\n",
       "      <td>NaN</td>\n",
       "      <td>NaN</td>\n",
       "    </tr>\n",
       "    <tr>\n",
       "      <th>9</th>\n",
       "      <td>nde62ec6685814d3abe51cbbe196b2910b29</td>\n",
       "      <td>NaN</td>\n",
       "      <td>NaN</td>\n",
       "    </tr>\n",
       "    <tr>\n",
       "      <th>10</th>\n",
       "      <td>nde62ec6685814d3abe51cbbe196b2910b32</td>\n",
       "      <td>NaN</td>\n",
       "      <td>NaN</td>\n",
       "    </tr>\n",
       "    <tr>\n",
       "      <th>11</th>\n",
       "      <td>nde62ec6685814d3abe51cbbe196b2910b35</td>\n",
       "      <td>NaN</td>\n",
       "      <td>NaN</td>\n",
       "    </tr>\n",
       "    <tr>\n",
       "      <th>12</th>\n",
       "      <td>nde62ec6685814d3abe51cbbe196b2910b38</td>\n",
       "      <td>NaN</td>\n",
       "      <td>NaN</td>\n",
       "    </tr>\n",
       "    <tr>\n",
       "      <th>13</th>\n",
       "      <td>nde62ec6685814d3abe51cbbe196b2910b41</td>\n",
       "      <td>NaN</td>\n",
       "      <td>NaN</td>\n",
       "    </tr>\n",
       "    <tr>\n",
       "      <th>14</th>\n",
       "      <td>nde62ec6685814d3abe51cbbe196b2910b44</td>\n",
       "      <td>NaN</td>\n",
       "      <td>NaN</td>\n",
       "    </tr>\n",
       "    <tr>\n",
       "      <th>15</th>\n",
       "      <td>nde62ec6685814d3abe51cbbe196b2910b48</td>\n",
       "      <td>NaN</td>\n",
       "      <td>NaN</td>\n",
       "    </tr>\n",
       "    <tr>\n",
       "      <th>16</th>\n",
       "      <td>nde62ec6685814d3abe51cbbe196b2910b52</td>\n",
       "      <td>NaN</td>\n",
       "      <td>NaN</td>\n",
       "    </tr>\n",
       "    <tr>\n",
       "      <th>17</th>\n",
       "      <td>nde62ec6685814d3abe51cbbe196b2910b55</td>\n",
       "      <td>NaN</td>\n",
       "      <td>NaN</td>\n",
       "    </tr>\n",
       "    <tr>\n",
       "      <th>18</th>\n",
       "      <td>nde62ec6685814d3abe51cbbe196b2910b59</td>\n",
       "      <td>NaN</td>\n",
       "      <td>NaN</td>\n",
       "    </tr>\n",
       "    <tr>\n",
       "      <th>19</th>\n",
       "      <td>nde62ec6685814d3abe51cbbe196b2910b65</td>\n",
       "      <td>NaN</td>\n",
       "      <td>NaN</td>\n",
       "    </tr>\n",
       "    <tr>\n",
       "      <th>20</th>\n",
       "      <td>nde62ec6685814d3abe51cbbe196b2910b68</td>\n",
       "      <td>NaN</td>\n",
       "      <td>NaN</td>\n",
       "    </tr>\n",
       "    <tr>\n",
       "      <th>21</th>\n",
       "      <td>nde62ec6685814d3abe51cbbe196b2910b71</td>\n",
       "      <td>NaN</td>\n",
       "      <td>NaN</td>\n",
       "    </tr>\n",
       "    <tr>\n",
       "      <th>22</th>\n",
       "      <td>nde62ec6685814d3abe51cbbe196b2910b74</td>\n",
       "      <td>NaN</td>\n",
       "      <td>NaN</td>\n",
       "    </tr>\n",
       "    <tr>\n",
       "      <th>23</th>\n",
       "      <td>nde62ec6685814d3abe51cbbe196b2910b77</td>\n",
       "      <td>NaN</td>\n",
       "      <td>NaN</td>\n",
       "    </tr>\n",
       "    <tr>\n",
       "      <th>24</th>\n",
       "      <td>nde62ec6685814d3abe51cbbe196b2910b81</td>\n",
       "      <td>NaN</td>\n",
       "      <td>NaN</td>\n",
       "    </tr>\n",
       "    <tr>\n",
       "      <th>25</th>\n",
       "      <td>nde62ec6685814d3abe51cbbe196b2910b84</td>\n",
       "      <td>NaN</td>\n",
       "      <td>NaN</td>\n",
       "    </tr>\n",
       "    <tr>\n",
       "      <th>26</th>\n",
       "      <td>nde62ec6685814d3abe51cbbe196b2910b88</td>\n",
       "      <td>NaN</td>\n",
       "      <td>NaN</td>\n",
       "    </tr>\n",
       "    <tr>\n",
       "      <th>27</th>\n",
       "      <td>http://www.semanticweb.org/oxg/ontologies/2023...</td>\n",
       "      <td>https://schema.org/CreativeWork</td>\n",
       "      <td>Documentation</td>\n",
       "    </tr>\n",
       "    <tr>\n",
       "      <th>28</th>\n",
       "      <td>http://www.semanticweb.org/oxg/ontologies/2023...</td>\n",
       "      <td>https://schema.org/CreativeWork</td>\n",
       "      <td>SMP</td>\n",
       "    </tr>\n",
       "    <tr>\n",
       "      <th>29</th>\n",
       "      <td>http://www.semanticweb.org/oxg/ontologies/2023...</td>\n",
       "      <td>https://schema.org/Action</td>\n",
       "      <td>TestAction</td>\n",
       "    </tr>\n",
       "    <tr>\n",
       "      <th>30</th>\n",
       "      <td>http://xmlns.com/foaf/0.1/Agent</td>\n",
       "      <td>NaN</td>\n",
       "      <td>Agent</td>\n",
       "    </tr>\n",
       "    <tr>\n",
       "      <th>31</th>\n",
       "      <td>https://bioschemas.org/FormalParameter</td>\n",
       "      <td>https://schema.org/Intangible</td>\n",
       "      <td>FormalParameter</td>\n",
       "    </tr>\n",
       "    <tr>\n",
       "      <th>32</th>\n",
       "      <td>https://schema.org/Action</td>\n",
       "      <td>NaN</td>\n",
       "      <td>Action</td>\n",
       "    </tr>\n",
       "    <tr>\n",
       "      <th>33</th>\n",
       "      <td>https://schema.org/Boolean</td>\n",
       "      <td>https://schema.org/DataType</td>\n",
       "      <td>Boolean</td>\n",
       "    </tr>\n",
       "    <tr>\n",
       "      <th>34</th>\n",
       "      <td>https://schema.org/CreativeWork</td>\n",
       "      <td>NaN</td>\n",
       "      <td>CreativeWork</td>\n",
       "    </tr>\n",
       "    <tr>\n",
       "      <th>35</th>\n",
       "      <td>https://schema.org/DataType</td>\n",
       "      <td>NaN</td>\n",
       "      <td>DataType</td>\n",
       "    </tr>\n",
       "    <tr>\n",
       "      <th>36</th>\n",
       "      <td>https://schema.org/Dataset</td>\n",
       "      <td>https://schema.org/CreativeWork</td>\n",
       "      <td>Dataset-SMP</td>\n",
       "    </tr>\n",
       "    <tr>\n",
       "      <th>37</th>\n",
       "      <td>https://schema.org/Date</td>\n",
       "      <td>https://schema.org/DataType</td>\n",
       "      <td>Date</td>\n",
       "    </tr>\n",
       "    <tr>\n",
       "      <th>38</th>\n",
       "      <td>https://schema.org/DefinedTerm</td>\n",
       "      <td>https://schema.org/Intangible</td>\n",
       "      <td>DefinedTerm</td>\n",
       "    </tr>\n",
       "    <tr>\n",
       "      <th>39</th>\n",
       "      <td>https://schema.org/Intangible</td>\n",
       "      <td>NaN</td>\n",
       "      <td>Intangible</td>\n",
       "    </tr>\n",
       "    <tr>\n",
       "      <th>40</th>\n",
       "      <td>https://schema.org/LearningResource</td>\n",
       "      <td>https://schema.org/CreativeWork</td>\n",
       "      <td>LearningResource</td>\n",
       "    </tr>\n",
       "    <tr>\n",
       "      <th>41</th>\n",
       "      <td>https://schema.org/Organization</td>\n",
       "      <td>http://xmlns.com/foaf/0.1/Agent</td>\n",
       "      <td>Organization</td>\n",
       "    </tr>\n",
       "    <tr>\n",
       "      <th>42</th>\n",
       "      <td>https://schema.org/Person</td>\n",
       "      <td>http://xmlns.com/foaf/0.1/Agent</td>\n",
       "      <td>Person</td>\n",
       "    </tr>\n",
       "    <tr>\n",
       "      <th>43</th>\n",
       "      <td>https://schema.org/PropertyValue</td>\n",
       "      <td>https://schema.org/Intangible</td>\n",
       "      <td>PropertyValue</td>\n",
       "    </tr>\n",
       "    <tr>\n",
       "      <th>44</th>\n",
       "      <td>https://schema.org/SoftwareApplication</td>\n",
       "      <td>https://schema.org/CreativeWork</td>\n",
       "      <td>SoftwareApplication</td>\n",
       "    </tr>\n",
       "    <tr>\n",
       "      <th>45</th>\n",
       "      <td>https://schema.org/SoftwareSourceCode</td>\n",
       "      <td>https://schema.org/CreativeWork</td>\n",
       "      <td>SoftwareSourceCode</td>\n",
       "    </tr>\n",
       "    <tr>\n",
       "      <th>46</th>\n",
       "      <td>https://schema.org/Text</td>\n",
       "      <td>https://schema.org/DataType</td>\n",
       "      <td>Text</td>\n",
       "    </tr>\n",
       "    <tr>\n",
       "      <th>47</th>\n",
       "      <td>https://schema.org/URL</td>\n",
       "      <td>https://schema.org/Text</td>\n",
       "      <td>URL</td>\n",
       "    </tr>\n",
       "    <tr>\n",
       "      <th>48</th>\n",
       "      <td>https://w3id.org/dcso/ns/core#Dataset</td>\n",
       "      <td>NaN</td>\n",
       "      <td>Dataset-DMP</td>\n",
       "    </tr>\n",
       "    <tr>\n",
       "      <th>49</th>\n",
       "      <td>https://w3id.org/dcso/ns/core#Id</td>\n",
       "      <td>NaN</td>\n",
       "      <td>Id</td>\n",
       "    </tr>\n",
       "    <tr>\n",
       "      <th>50</th>\n",
       "      <td>https://w3id.org/dcso/ns/core#License</td>\n",
       "      <td>NaN</td>\n",
       "      <td>License</td>\n",
       "    </tr>\n",
       "  </tbody>\n",
       "</table>\n",
       "</div>"
      ],
      "text/plain": [
       "                                              subject   \n",
       "0                 nde62ec6685814d3abe51cbbe196b2910b1  \\\n",
       "1                 nde62ec6685814d3abe51cbbe196b2910b4   \n",
       "2                 nde62ec6685814d3abe51cbbe196b2910b7   \n",
       "3                nde62ec6685814d3abe51cbbe196b2910b10   \n",
       "4                nde62ec6685814d3abe51cbbe196b2910b13   \n",
       "5                nde62ec6685814d3abe51cbbe196b2910b17   \n",
       "6                nde62ec6685814d3abe51cbbe196b2910b20   \n",
       "7                nde62ec6685814d3abe51cbbe196b2910b23   \n",
       "8                nde62ec6685814d3abe51cbbe196b2910b26   \n",
       "9                nde62ec6685814d3abe51cbbe196b2910b29   \n",
       "10               nde62ec6685814d3abe51cbbe196b2910b32   \n",
       "11               nde62ec6685814d3abe51cbbe196b2910b35   \n",
       "12               nde62ec6685814d3abe51cbbe196b2910b38   \n",
       "13               nde62ec6685814d3abe51cbbe196b2910b41   \n",
       "14               nde62ec6685814d3abe51cbbe196b2910b44   \n",
       "15               nde62ec6685814d3abe51cbbe196b2910b48   \n",
       "16               nde62ec6685814d3abe51cbbe196b2910b52   \n",
       "17               nde62ec6685814d3abe51cbbe196b2910b55   \n",
       "18               nde62ec6685814d3abe51cbbe196b2910b59   \n",
       "19               nde62ec6685814d3abe51cbbe196b2910b65   \n",
       "20               nde62ec6685814d3abe51cbbe196b2910b68   \n",
       "21               nde62ec6685814d3abe51cbbe196b2910b71   \n",
       "22               nde62ec6685814d3abe51cbbe196b2910b74   \n",
       "23               nde62ec6685814d3abe51cbbe196b2910b77   \n",
       "24               nde62ec6685814d3abe51cbbe196b2910b81   \n",
       "25               nde62ec6685814d3abe51cbbe196b2910b84   \n",
       "26               nde62ec6685814d3abe51cbbe196b2910b88   \n",
       "27  http://www.semanticweb.org/oxg/ontologies/2023...   \n",
       "28  http://www.semanticweb.org/oxg/ontologies/2023...   \n",
       "29  http://www.semanticweb.org/oxg/ontologies/2023...   \n",
       "30                    http://xmlns.com/foaf/0.1/Agent   \n",
       "31             https://bioschemas.org/FormalParameter   \n",
       "32                          https://schema.org/Action   \n",
       "33                         https://schema.org/Boolean   \n",
       "34                    https://schema.org/CreativeWork   \n",
       "35                        https://schema.org/DataType   \n",
       "36                         https://schema.org/Dataset   \n",
       "37                            https://schema.org/Date   \n",
       "38                     https://schema.org/DefinedTerm   \n",
       "39                      https://schema.org/Intangible   \n",
       "40                https://schema.org/LearningResource   \n",
       "41                    https://schema.org/Organization   \n",
       "42                          https://schema.org/Person   \n",
       "43                   https://schema.org/PropertyValue   \n",
       "44             https://schema.org/SoftwareApplication   \n",
       "45              https://schema.org/SoftwareSourceCode   \n",
       "46                            https://schema.org/Text   \n",
       "47                             https://schema.org/URL   \n",
       "48              https://w3id.org/dcso/ns/core#Dataset   \n",
       "49                   https://w3id.org/dcso/ns/core#Id   \n",
       "50              https://w3id.org/dcso/ns/core#License   \n",
       "\n",
       "                          supertype                label  \n",
       "0                               NaN                  NaN  \n",
       "1                               NaN                  NaN  \n",
       "2                               NaN                  NaN  \n",
       "3                               NaN                  NaN  \n",
       "4                               NaN                  NaN  \n",
       "5                               NaN                  NaN  \n",
       "6                               NaN                  NaN  \n",
       "7                               NaN                  NaN  \n",
       "8                               NaN                  NaN  \n",
       "9                               NaN                  NaN  \n",
       "10                              NaN                  NaN  \n",
       "11                              NaN                  NaN  \n",
       "12                              NaN                  NaN  \n",
       "13                              NaN                  NaN  \n",
       "14                              NaN                  NaN  \n",
       "15                              NaN                  NaN  \n",
       "16                              NaN                  NaN  \n",
       "17                              NaN                  NaN  \n",
       "18                              NaN                  NaN  \n",
       "19                              NaN                  NaN  \n",
       "20                              NaN                  NaN  \n",
       "21                              NaN                  NaN  \n",
       "22                              NaN                  NaN  \n",
       "23                              NaN                  NaN  \n",
       "24                              NaN                  NaN  \n",
       "25                              NaN                  NaN  \n",
       "26                              NaN                  NaN  \n",
       "27  https://schema.org/CreativeWork        Documentation  \n",
       "28  https://schema.org/CreativeWork                  SMP  \n",
       "29        https://schema.org/Action           TestAction  \n",
       "30                              NaN                Agent  \n",
       "31    https://schema.org/Intangible      FormalParameter  \n",
       "32                              NaN               Action  \n",
       "33      https://schema.org/DataType              Boolean  \n",
       "34                              NaN         CreativeWork  \n",
       "35                              NaN             DataType  \n",
       "36  https://schema.org/CreativeWork          Dataset-SMP  \n",
       "37      https://schema.org/DataType                 Date  \n",
       "38    https://schema.org/Intangible          DefinedTerm  \n",
       "39                              NaN           Intangible  \n",
       "40  https://schema.org/CreativeWork     LearningResource  \n",
       "41  http://xmlns.com/foaf/0.1/Agent         Organization  \n",
       "42  http://xmlns.com/foaf/0.1/Agent               Person  \n",
       "43    https://schema.org/Intangible        PropertyValue  \n",
       "44  https://schema.org/CreativeWork  SoftwareApplication  \n",
       "45  https://schema.org/CreativeWork   SoftwareSourceCode  \n",
       "46      https://schema.org/DataType                 Text  \n",
       "47          https://schema.org/Text                  URL  \n",
       "48                              NaN          Dataset-DMP  \n",
       "49                              NaN                   Id  \n",
       "50                              NaN              License  "
      ]
     },
     "execution_count": 12,
     "metadata": {},
     "output_type": "execute_result"
    }
   ],
   "source": [
    "df2"
   ]
  },
  {
   "cell_type": "code",
   "execution_count": 13,
   "id": "c8718fd5",
   "metadata": {},
   "outputs": [
    {
     "data": {
      "text/html": [
       "<div>\n",
       "<style scoped>\n",
       "    .dataframe tbody tr th:only-of-type {\n",
       "        vertical-align: middle;\n",
       "    }\n",
       "\n",
       "    .dataframe tbody tr th {\n",
       "        vertical-align: top;\n",
       "    }\n",
       "\n",
       "    .dataframe thead th {\n",
       "        text-align: right;\n",
       "    }\n",
       "</style>\n",
       "<table border=\"1\" class=\"dataframe\">\n",
       "  <thead>\n",
       "    <tr style=\"text-align: right;\">\n",
       "      <th></th>\n",
       "      <th>subject</th>\n",
       "      <th>supertype</th>\n",
       "      <th>label</th>\n",
       "    </tr>\n",
       "  </thead>\n",
       "  <tbody>\n",
       "    <tr>\n",
       "      <th>27</th>\n",
       "      <td>http://www.semanticweb.org/oxg/ontologies/2023...</td>\n",
       "      <td>https://schema.org/CreativeWork</td>\n",
       "      <td>Documentation</td>\n",
       "    </tr>\n",
       "    <tr>\n",
       "      <th>28</th>\n",
       "      <td>http://www.semanticweb.org/oxg/ontologies/2023...</td>\n",
       "      <td>https://schema.org/CreativeWork</td>\n",
       "      <td>SMP</td>\n",
       "    </tr>\n",
       "    <tr>\n",
       "      <th>29</th>\n",
       "      <td>http://www.semanticweb.org/oxg/ontologies/2023...</td>\n",
       "      <td>https://schema.org/Action</td>\n",
       "      <td>TestAction</td>\n",
       "    </tr>\n",
       "    <tr>\n",
       "      <th>30</th>\n",
       "      <td>http://xmlns.com/foaf/0.1/Agent</td>\n",
       "      <td>NaN</td>\n",
       "      <td>Agent</td>\n",
       "    </tr>\n",
       "    <tr>\n",
       "      <th>31</th>\n",
       "      <td>https://bioschemas.org/FormalParameter</td>\n",
       "      <td>https://schema.org/Intangible</td>\n",
       "      <td>FormalParameter</td>\n",
       "    </tr>\n",
       "    <tr>\n",
       "      <th>32</th>\n",
       "      <td>https://schema.org/Action</td>\n",
       "      <td>NaN</td>\n",
       "      <td>Action</td>\n",
       "    </tr>\n",
       "    <tr>\n",
       "      <th>33</th>\n",
       "      <td>https://schema.org/Boolean</td>\n",
       "      <td>https://schema.org/DataType</td>\n",
       "      <td>Boolean</td>\n",
       "    </tr>\n",
       "    <tr>\n",
       "      <th>34</th>\n",
       "      <td>https://schema.org/CreativeWork</td>\n",
       "      <td>NaN</td>\n",
       "      <td>CreativeWork</td>\n",
       "    </tr>\n",
       "    <tr>\n",
       "      <th>35</th>\n",
       "      <td>https://schema.org/DataType</td>\n",
       "      <td>NaN</td>\n",
       "      <td>DataType</td>\n",
       "    </tr>\n",
       "    <tr>\n",
       "      <th>36</th>\n",
       "      <td>https://schema.org/Dataset</td>\n",
       "      <td>https://schema.org/CreativeWork</td>\n",
       "      <td>Dataset-SMP</td>\n",
       "    </tr>\n",
       "    <tr>\n",
       "      <th>37</th>\n",
       "      <td>https://schema.org/Date</td>\n",
       "      <td>https://schema.org/DataType</td>\n",
       "      <td>Date</td>\n",
       "    </tr>\n",
       "    <tr>\n",
       "      <th>38</th>\n",
       "      <td>https://schema.org/DefinedTerm</td>\n",
       "      <td>https://schema.org/Intangible</td>\n",
       "      <td>DefinedTerm</td>\n",
       "    </tr>\n",
       "    <tr>\n",
       "      <th>39</th>\n",
       "      <td>https://schema.org/Intangible</td>\n",
       "      <td>NaN</td>\n",
       "      <td>Intangible</td>\n",
       "    </tr>\n",
       "    <tr>\n",
       "      <th>40</th>\n",
       "      <td>https://schema.org/LearningResource</td>\n",
       "      <td>https://schema.org/CreativeWork</td>\n",
       "      <td>LearningResource</td>\n",
       "    </tr>\n",
       "    <tr>\n",
       "      <th>41</th>\n",
       "      <td>https://schema.org/Organization</td>\n",
       "      <td>http://xmlns.com/foaf/0.1/Agent</td>\n",
       "      <td>Organization</td>\n",
       "    </tr>\n",
       "    <tr>\n",
       "      <th>42</th>\n",
       "      <td>https://schema.org/Person</td>\n",
       "      <td>http://xmlns.com/foaf/0.1/Agent</td>\n",
       "      <td>Person</td>\n",
       "    </tr>\n",
       "    <tr>\n",
       "      <th>43</th>\n",
       "      <td>https://schema.org/PropertyValue</td>\n",
       "      <td>https://schema.org/Intangible</td>\n",
       "      <td>PropertyValue</td>\n",
       "    </tr>\n",
       "    <tr>\n",
       "      <th>44</th>\n",
       "      <td>https://schema.org/SoftwareApplication</td>\n",
       "      <td>https://schema.org/CreativeWork</td>\n",
       "      <td>SoftwareApplication</td>\n",
       "    </tr>\n",
       "    <tr>\n",
       "      <th>45</th>\n",
       "      <td>https://schema.org/SoftwareSourceCode</td>\n",
       "      <td>https://schema.org/CreativeWork</td>\n",
       "      <td>SoftwareSourceCode</td>\n",
       "    </tr>\n",
       "    <tr>\n",
       "      <th>46</th>\n",
       "      <td>https://schema.org/Text</td>\n",
       "      <td>https://schema.org/DataType</td>\n",
       "      <td>Text</td>\n",
       "    </tr>\n",
       "    <tr>\n",
       "      <th>47</th>\n",
       "      <td>https://schema.org/URL</td>\n",
       "      <td>https://schema.org/Text</td>\n",
       "      <td>URL</td>\n",
       "    </tr>\n",
       "    <tr>\n",
       "      <th>48</th>\n",
       "      <td>https://w3id.org/dcso/ns/core#Dataset</td>\n",
       "      <td>NaN</td>\n",
       "      <td>Dataset-DMP</td>\n",
       "    </tr>\n",
       "    <tr>\n",
       "      <th>49</th>\n",
       "      <td>https://w3id.org/dcso/ns/core#Id</td>\n",
       "      <td>NaN</td>\n",
       "      <td>Id</td>\n",
       "    </tr>\n",
       "    <tr>\n",
       "      <th>50</th>\n",
       "      <td>https://w3id.org/dcso/ns/core#License</td>\n",
       "      <td>NaN</td>\n",
       "      <td>License</td>\n",
       "    </tr>\n",
       "  </tbody>\n",
       "</table>\n",
       "</div>"
      ],
      "text/plain": [
       "                                              subject   \n",
       "27  http://www.semanticweb.org/oxg/ontologies/2023...  \\\n",
       "28  http://www.semanticweb.org/oxg/ontologies/2023...   \n",
       "29  http://www.semanticweb.org/oxg/ontologies/2023...   \n",
       "30                    http://xmlns.com/foaf/0.1/Agent   \n",
       "31             https://bioschemas.org/FormalParameter   \n",
       "32                          https://schema.org/Action   \n",
       "33                         https://schema.org/Boolean   \n",
       "34                    https://schema.org/CreativeWork   \n",
       "35                        https://schema.org/DataType   \n",
       "36                         https://schema.org/Dataset   \n",
       "37                            https://schema.org/Date   \n",
       "38                     https://schema.org/DefinedTerm   \n",
       "39                      https://schema.org/Intangible   \n",
       "40                https://schema.org/LearningResource   \n",
       "41                    https://schema.org/Organization   \n",
       "42                          https://schema.org/Person   \n",
       "43                   https://schema.org/PropertyValue   \n",
       "44             https://schema.org/SoftwareApplication   \n",
       "45              https://schema.org/SoftwareSourceCode   \n",
       "46                            https://schema.org/Text   \n",
       "47                             https://schema.org/URL   \n",
       "48              https://w3id.org/dcso/ns/core#Dataset   \n",
       "49                   https://w3id.org/dcso/ns/core#Id   \n",
       "50              https://w3id.org/dcso/ns/core#License   \n",
       "\n",
       "                          supertype                label  \n",
       "27  https://schema.org/CreativeWork        Documentation  \n",
       "28  https://schema.org/CreativeWork                  SMP  \n",
       "29        https://schema.org/Action           TestAction  \n",
       "30                              NaN                Agent  \n",
       "31    https://schema.org/Intangible      FormalParameter  \n",
       "32                              NaN               Action  \n",
       "33      https://schema.org/DataType              Boolean  \n",
       "34                              NaN         CreativeWork  \n",
       "35                              NaN             DataType  \n",
       "36  https://schema.org/CreativeWork          Dataset-SMP  \n",
       "37      https://schema.org/DataType                 Date  \n",
       "38    https://schema.org/Intangible          DefinedTerm  \n",
       "39                              NaN           Intangible  \n",
       "40  https://schema.org/CreativeWork     LearningResource  \n",
       "41  http://xmlns.com/foaf/0.1/Agent         Organization  \n",
       "42  http://xmlns.com/foaf/0.1/Agent               Person  \n",
       "43    https://schema.org/Intangible        PropertyValue  \n",
       "44  https://schema.org/CreativeWork  SoftwareApplication  \n",
       "45  https://schema.org/CreativeWork   SoftwareSourceCode  \n",
       "46      https://schema.org/DataType                 Text  \n",
       "47          https://schema.org/Text                  URL  \n",
       "48                              NaN          Dataset-DMP  \n",
       "49                              NaN                   Id  \n",
       "50                              NaN              License  "
      ]
     },
     "execution_count": 13,
     "metadata": {},
     "output_type": "execute_result"
    }
   ],
   "source": [
    "df_f = df2.dropna(subset=[\"supertype\", \"label\"], how='all')\n",
    "df_f\n"
   ]
  },
  {
   "cell_type": "code",
   "execution_count": 14,
   "id": "21cb08c9",
   "metadata": {},
   "outputs": [],
   "source": [
    "df_dict = df_f[[\"subject\", \"label\"]]"
   ]
  },
  {
   "cell_type": "code",
   "execution_count": 15,
   "id": "d75726d0",
   "metadata": {},
   "outputs": [],
   "source": [
    "area_dict = dict(zip(df_dict['subject'], df_dict['label']))"
   ]
  },
  {
   "cell_type": "code",
   "execution_count": 16,
   "id": "77a5bba9",
   "metadata": {},
   "outputs": [
    {
     "data": {
      "text/plain": [
       "{'http://www.semanticweb.org/oxg/ontologies/2023/1/maSMP#Documentation': 'Documentation',\n",
       " 'http://www.semanticweb.org/oxg/ontologies/2023/1/maSMP#SMP': 'SMP',\n",
       " 'http://www.semanticweb.org/oxg/ontologies/2023/1/maSMP#TestAction': 'TestAction',\n",
       " 'http://xmlns.com/foaf/0.1/Agent': 'Agent',\n",
       " 'https://bioschemas.org/FormalParameter': 'FormalParameter',\n",
       " 'https://schema.org/Action': 'Action',\n",
       " 'https://schema.org/Boolean': 'Boolean',\n",
       " 'https://schema.org/CreativeWork': 'CreativeWork',\n",
       " 'https://schema.org/DataType': 'DataType',\n",
       " 'https://schema.org/Dataset': 'Dataset-SMP',\n",
       " 'https://schema.org/Date': 'Date',\n",
       " 'https://schema.org/DefinedTerm': 'DefinedTerm',\n",
       " 'https://schema.org/Intangible': 'Intangible',\n",
       " 'https://schema.org/LearningResource': 'LearningResource',\n",
       " 'https://schema.org/Organization': 'Organization',\n",
       " 'https://schema.org/Person': 'Person',\n",
       " 'https://schema.org/PropertyValue': 'PropertyValue',\n",
       " 'https://schema.org/SoftwareApplication': 'SoftwareApplication',\n",
       " 'https://schema.org/SoftwareSourceCode': 'SoftwareSourceCode',\n",
       " 'https://schema.org/Text': 'Text',\n",
       " 'https://schema.org/URL': 'URL',\n",
       " 'https://w3id.org/dcso/ns/core#Dataset': 'Dataset-DMP',\n",
       " 'https://w3id.org/dcso/ns/core#Id': 'Id',\n",
       " 'https://w3id.org/dcso/ns/core#License': 'License'}"
      ]
     },
     "execution_count": 16,
     "metadata": {},
     "output_type": "execute_result"
    }
   ],
   "source": [
    "area_dict"
   ]
  },
  {
   "cell_type": "code",
   "execution_count": 17,
   "id": "6449136a",
   "metadata": {},
   "outputs": [],
   "source": [
    "q3=\"\"\"SELECT DISTINCT ?subject ?label ?supertype\n",
    "WHERE {\n",
    "    {\n",
    "        ?subject a owl:Class .\n",
    "        OPTIONAL { ?subject rdfs:subClassOf ?supertype } .\n",
    "        OPTIONAL { ?subject rdfs:label ?label }.\n",
    "    }\n",
    "           \n",
    "     \n",
    "} ORDER BY ?subject \"\"\"\n",
    "\n",
    "pq = g1.query(q3)\n",
    "pd.DataFrame(pq.bindings)\n",
    "    # converts everything to strings including missing values\n",
    "pd.DataFrame(pq.bindings).applymap(str).rename(columns=str)\n",
    "# serialize with json and then parse (clobbers types, converting values to strings)\n",
    "import json\n",
    "results_json = pq.serialize(format=\"json\")\n",
    "bindings = json.loads(results_json)[\"results\"][\"bindings\"]\n",
    "bindings = [{k: v[\"value\"] for k, v in result.items()} for result in bindings]\n",
    "df2 = pd.DataFrame(bindings)\n",
    "# print(bindings)"
   ]
  },
  {
   "cell_type": "code",
   "execution_count": null,
   "id": "5860aa4a",
   "metadata": {},
   "outputs": [],
   "source": []
  },
  {
   "cell_type": "code",
   "execution_count": null,
   "id": "920aa9c0",
   "metadata": {},
   "outputs": [],
   "source": []
  },
  {
   "cell_type": "code",
   "execution_count": null,
   "id": "685311f6",
   "metadata": {},
   "outputs": [],
   "source": []
  },
  {
   "cell_type": "code",
   "execution_count": null,
   "id": "8559c9ac",
   "metadata": {},
   "outputs": [],
   "source": []
  },
  {
   "cell_type": "code",
   "execution_count": null,
   "id": "2b236a2f",
   "metadata": {},
   "outputs": [],
   "source": []
  },
  {
   "cell_type": "code",
   "execution_count": null,
   "id": "abc21ef8",
   "metadata": {},
   "outputs": [],
   "source": []
  },
  {
   "cell_type": "code",
   "execution_count": 17,
   "id": "2c6271f7",
   "metadata": {},
   "outputs": [],
   "source": [
    "list2=[]\n",
    "html_str= \"\"\"## maSMP Ontology\n",
    "    <table><tr><td valign=\"top\"> <h4><u>Structure of Ontology</h4></u>\n",
    "    <h4>Classes</h4>\"\"\"\n",
    "    \n",
    "html_str1 = \"\"\"</td>\n",
    "    </td><td valign=\"top\">\n",
    "    <img src=\"/Users/dhwani/SMP/maSPMs/mkdoc/docs/timeline.png\" alt=\" \" style=\"height: 400px; width:650;\"/>\n",
    "    <br>\n",
    "    </td>\n",
    "    </table>\"\"\"\n",
    "\n",
    "for k, v in area_dict.items():\n",
    "    ex = \"<ul><li><a href=\" + k+ '\"'+'>'+ v + '</a></li></ul>'\n",
    "    \n",
    "    list2.append(str(ex))\n",
    "   \n",
    "\n",
    "    "
   ]
  },
  {
   "cell_type": "code",
   "execution_count": 18,
   "id": "1ef1fdf2",
   "metadata": {},
   "outputs": [],
   "source": [
    "classlink= ''.join(list2)\n",
    "class_html  = html_str + classlink + html_str1"
   ]
  },
  {
   "cell_type": "code",
   "execution_count": 19,
   "id": "6174e1ee",
   "metadata": {},
   "outputs": [
    {
     "data": {
      "text/plain": [
       "'## maSMP Ontology\\n    <table><tr><td valign=\"top\"> <h4><u>Structure of Ontology</h4></u>\\n    <h4>Classes</h4><ul><li><a href=http://www.semanticweb.org/oxg/ontologies/2023/1/maSMP#Documentation\">Documentation</a></li></ul><ul><li><a href=http://www.semanticweb.org/oxg/ontologies/2023/1/maSMP#SMP\">SMP</a></li></ul><ul><li><a href=http://www.semanticweb.org/oxg/ontologies/2023/1/maSMP#TestAction\">TestAction</a></li></ul><ul><li><a href=http://xmlns.com/foaf/0.1/Agent\">Agent</a></li></ul><ul><li><a href=https://bioschemas.org/FormalParameter\">FormalParameter</a></li></ul><ul><li><a href=https://schema.org/Action\">Action</a></li></ul><ul><li><a href=https://schema.org/Boolean\">Boolean</a></li></ul><ul><li><a href=https://schema.org/CreativeWork\">CreativeWork</a></li></ul><ul><li><a href=https://schema.org/DataType\">DataType</a></li></ul><ul><li><a href=https://schema.org/Dataset\">Dataset-SMP</a></li></ul><ul><li><a href=https://schema.org/Date\">Date</a></li></ul><ul><li><a href=https://schema.org/DefinedTerm\">DefinedTerm</a></li></ul><ul><li><a href=https://schema.org/Intangible\">Intangible</a></li></ul><ul><li><a href=https://schema.org/LearningResource\">LearningResource</a></li></ul><ul><li><a href=https://schema.org/Organization\">Organization</a></li></ul><ul><li><a href=https://schema.org/Person\">Person</a></li></ul><ul><li><a href=https://schema.org/PropertyValue\">PropertyValue</a></li></ul><ul><li><a href=https://schema.org/SoftwareApplication\">SoftwareApplication</a></li></ul><ul><li><a href=https://schema.org/SoftwareSourceCode\">SoftwareSourceCode</a></li></ul><ul><li><a href=https://schema.org/Text\">Text</a></li></ul><ul><li><a href=https://schema.org/URL\">URL</a></li></ul><ul><li><a href=https://w3id.org/dcso/ns/core#Dataset\">Dataset-DMP</a></li></ul><ul><li><a href=https://w3id.org/dcso/ns/core#Id\">Id</a></li></ul><ul><li><a href=https://w3id.org/dcso/ns/core#License\">License</a></li></ul></td>\\n    </td><td valign=\"top\">\\n    <img src=\"/Users/dhwani/SMP/maSPMs/mkdoc/docs/timeline.png\" alt=\" \" style=\"height: 400px; width:650;\"/>\\n    <br>\\n    </td>\\n    </table>'"
      ]
     },
     "execution_count": 19,
     "metadata": {},
     "output_type": "execute_result"
    }
   ],
   "source": [
    "class_html"
   ]
  },
  {
   "cell_type": "code",
   "execution_count": 20,
   "id": "12c90c41",
   "metadata": {},
   "outputs": [],
   "source": [
    "new_html = class_html.replace(\"\\n\", \"\")"
   ]
  },
  {
   "cell_type": "code",
   "execution_count": 21,
   "id": "70718cfb",
   "metadata": {},
   "outputs": [
    {
     "data": {
      "text/plain": [
       "'## maSMP Ontology    <table><tr><td valign=\"top\"> <h4><u>Structure of Ontology</h4></u>    <h4>Classes</h4><ul><li><a href=http://www.semanticweb.org/oxg/ontologies/2023/1/maSMP#Documentation\">Documentation</a></li></ul><ul><li><a href=http://www.semanticweb.org/oxg/ontologies/2023/1/maSMP#SMP\">SMP</a></li></ul><ul><li><a href=http://www.semanticweb.org/oxg/ontologies/2023/1/maSMP#TestAction\">TestAction</a></li></ul><ul><li><a href=http://xmlns.com/foaf/0.1/Agent\">Agent</a></li></ul><ul><li><a href=https://bioschemas.org/FormalParameter\">FormalParameter</a></li></ul><ul><li><a href=https://schema.org/Action\">Action</a></li></ul><ul><li><a href=https://schema.org/Boolean\">Boolean</a></li></ul><ul><li><a href=https://schema.org/CreativeWork\">CreativeWork</a></li></ul><ul><li><a href=https://schema.org/DataType\">DataType</a></li></ul><ul><li><a href=https://schema.org/Dataset\">Dataset-SMP</a></li></ul><ul><li><a href=https://schema.org/Date\">Date</a></li></ul><ul><li><a href=https://schema.org/DefinedTerm\">DefinedTerm</a></li></ul><ul><li><a href=https://schema.org/Intangible\">Intangible</a></li></ul><ul><li><a href=https://schema.org/LearningResource\">LearningResource</a></li></ul><ul><li><a href=https://schema.org/Organization\">Organization</a></li></ul><ul><li><a href=https://schema.org/Person\">Person</a></li></ul><ul><li><a href=https://schema.org/PropertyValue\">PropertyValue</a></li></ul><ul><li><a href=https://schema.org/SoftwareApplication\">SoftwareApplication</a></li></ul><ul><li><a href=https://schema.org/SoftwareSourceCode\">SoftwareSourceCode</a></li></ul><ul><li><a href=https://schema.org/Text\">Text</a></li></ul><ul><li><a href=https://schema.org/URL\">URL</a></li></ul><ul><li><a href=https://w3id.org/dcso/ns/core#Dataset\">Dataset-DMP</a></li></ul><ul><li><a href=https://w3id.org/dcso/ns/core#Id\">Id</a></li></ul><ul><li><a href=https://w3id.org/dcso/ns/core#License\">License</a></li></ul></td>    </td><td valign=\"top\">    <img src=\"/Users/dhwani/SMP/maSPMs/mkdoc/docs/timeline.png\" alt=\" \" style=\"height: 400px; width:650;\"/>    <br>    </td>    </table>'"
      ]
     },
     "execution_count": 21,
     "metadata": {},
     "output_type": "execute_result"
    }
   ],
   "source": [
    "new_html"
   ]
  },
  {
   "cell_type": "code",
   "execution_count": 22,
   "id": "6bf415f3",
   "metadata": {},
   "outputs": [],
   "source": [
    "import markdown\n",
    "path = r'/Users/dhwani/ZBMED/maSPMs/docs/'\n",
    "with open (path+'class_table.md', 'bw+') as f:\n",
    "    \n",
    "#     for i in list2:\n",
    "    f.write('{}\\n'. format(new_html).encode(\"utf-8\"))\n",
    "    f.seek(0)\n",
    "    markdown.markdownFromFile(input=f, output='class_list.html')"
   ]
  },
  {
   "cell_type": "code",
   "execution_count": null,
   "id": "5d2dc040",
   "metadata": {},
   "outputs": [],
   "source": []
  },
  {
   "cell_type": "markdown",
   "id": "0bc1048e",
   "metadata": {},
   "source": [
    "### Object properties"
   ]
  },
  {
   "cell_type": "code",
   "execution_count": 19,
   "id": "904d1094",
   "metadata": {},
   "outputs": [],
   "source": [
    "po_set = list(onto.object_properties())\n",
    "prop_list = list(po_set)"
   ]
  },
  {
   "cell_type": "code",
   "execution_count": 20,
   "id": "0bd5f9b2",
   "metadata": {
    "scrolled": true
   },
   "outputs": [
    {
     "data": {
      "text/plain": [
       "[Thesaurus.C174132,\n",
       " Thesaurus.C25634,\n",
       " maSMP.endToEndTesting,\n",
       " maSMP.testType,\n",
       " maSMP.frontEndTesting,\n",
       " maSMP.functionalTesting,\n",
       " maSMP.hasAPIDocumentation,\n",
       " maSMP.hasChangelog,\n",
       " maSMP.hasDeveloperDocumentation,\n",
       " maSMP.hasDocstring,\n",
       " maSMP.hasLearningResource,\n",
       " maSMP.hasReadme,\n",
       " maSMP.hasSoftwareSourceCode,\n",
       " maSMP.hasUserDocumentation,\n",
       " maSMP.hasVersionControlSystem,\n",
       " maSMP.integrationTesting,\n",
       " maSMP.limitation,\n",
       " maSMP.lintingTesting,\n",
       " maSMP.problem,\n",
       " maSMP.regressionTesting,\n",
       " maSMP.testedWith,\n",
       " maSMP.unitTesting,\n",
       " bioschemas.org.input,\n",
       " bioschemas.org.output,\n",
       " schema.org.agent,\n",
       " schema.org.archivedAt,\n",
       " schema.org.audience,\n",
       " schema.org.author,\n",
       " schema.org.citation,\n",
       " schema.org.codeRepository,\n",
       " schema.org.conditionsOfAccess,\n",
       " schema.org.contributor,\n",
       " core.hasContributor,\n",
       " schema.org.dateCreated,\n",
       " schema.org.dateModified,\n",
       " schema.org.description,\n",
       " schema.org.discussionUrl,\n",
       " schema.org.email,\n",
       " schema.org.identifier,\n",
       " schema.org.isAccessibleForFree,\n",
       " schema.org.keywords,\n",
       " schema.org.license,\n",
       " schema.org.memoryRequirements,\n",
       " schema.org.name,\n",
       " schema.org.operatingSystem,\n",
       " schema.org.processorRequirements,\n",
       " schema.org.programmingLanguage,\n",
       " schema.org.releaseNotes,\n",
       " schema.org.softwareRequirements,\n",
       " schema.org.storageRequirements,\n",
       " schema.org.supportingData,\n",
       " schema.org.targetProduct,\n",
       " schema.org.url,\n",
       " schema.org.usageInfo,\n",
       " schema.org.version,\n",
       " core.hasContact,\n",
       " core.hasId,\n",
       " core.hasLicense]"
      ]
     },
     "execution_count": 20,
     "metadata": {},
     "output_type": "execute_result"
    }
   ],
   "source": [
    "prop_list"
   ]
  },
  {
   "cell_type": "code",
   "execution_count": 29,
   "id": "b0b0b49e",
   "metadata": {},
   "outputs": [],
   "source": [
    "obj_list = []\n",
    "for item in prop_list:\n",
    "    obj_list.append(str(item)) "
   ]
  },
  {
   "cell_type": "code",
   "execution_count": 30,
   "id": "7aa8b5d2",
   "metadata": {},
   "outputs": [],
   "source": [
    "obj = []\n",
    "for i in obj_list:\n",
    "    x = i.split('.')[-1].split('#')[-1]\n",
    "    obj.append(x) \n",
    "    \n",
    "    \n",
    "# op = []\n",
    "# for i in list_op:\n",
    "#     e= i.split('/')[-1].split('#')[-1]\n",
    "#     op.append(e)\n",
    "    "
   ]
  },
  {
   "cell_type": "code",
   "execution_count": 31,
   "id": "3d4fa6b7",
   "metadata": {},
   "outputs": [],
   "source": [
    "import pandas as pd\n",
    "\n",
    "# Read the CSV file\n",
    "csv_file = pd.read_csv(\"/Users/dhwani/Downloads/masamp.csv\")"
   ]
  },
  {
   "cell_type": "code",
   "execution_count": 32,
   "id": "b19e4041",
   "metadata": {},
   "outputs": [],
   "source": [
    "col_list = csv_file.columns\n",
    "list_op = [ elem for elem in col_list if elem.startswith('http')]"
   ]
  },
  {
   "cell_type": "code",
   "execution_count": 33,
   "id": "00739c5e",
   "metadata": {},
   "outputs": [],
   "source": [
    "obj_prop_dict = dict(zip(list_op, obj))"
   ]
  },
  {
   "cell_type": "code",
   "execution_count": 34,
   "id": "9a2e4062",
   "metadata": {
    "scrolled": true
   },
   "outputs": [
    {
     "data": {
      "text/plain": [
       "{'http://ncicb.nci.nih.gov/xml/owl/EVS/Thesaurus.owl#C174132': 'C174132',\n",
       " 'http://ncicb.nci.nih.gov/xml/owl/EVS/Thesaurus.owl#C25634': 'C25634',\n",
       " 'http://www.semanticweb.org/oxg/ontologies/2023/1/maSMP#endToEndTesting': 'endToEndTesting',\n",
       " 'http://www.semanticweb.org/oxg/ontologies/2023/1/maSMP#frontEndTesting': 'testType',\n",
       " 'http://www.semanticweb.org/oxg/ontologies/2023/1/maSMP#functionalTesting': 'frontEndTesting',\n",
       " 'http://www.semanticweb.org/oxg/ontologies/2023/1/maSMP#hasAPIDocumentation': 'functionalTesting',\n",
       " 'http://www.semanticweb.org/oxg/ontologies/2023/1/maSMP#hasChangelog': 'hasAPIDocumentation',\n",
       " 'http://www.semanticweb.org/oxg/ontologies/2023/1/maSMP#hasDeveloperDocumentation': 'hasChangelog',\n",
       " 'http://www.semanticweb.org/oxg/ontologies/2023/1/maSMP#hasDocstring': 'hasDeveloperDocumentation',\n",
       " 'http://www.semanticweb.org/oxg/ontologies/2023/1/maSMP#hasLearningResource': 'hasDocstring',\n",
       " 'http://www.semanticweb.org/oxg/ontologies/2023/1/maSMP#hasReadme': 'hasLearningResource',\n",
       " 'http://www.semanticweb.org/oxg/ontologies/2023/1/maSMP#hasSoftwareSourceCode': 'hasReadme',\n",
       " 'http://www.semanticweb.org/oxg/ontologies/2023/1/maSMP#hasUserDocumentation': 'hasSoftwareSourceCode',\n",
       " 'http://www.semanticweb.org/oxg/ontologies/2023/1/maSMP#hasVersionControlSystem': 'hasUserDocumentation',\n",
       " 'http://www.semanticweb.org/oxg/ontologies/2023/1/maSMP#integrationTesting': 'hasVersionControlSystem',\n",
       " 'http://www.semanticweb.org/oxg/ontologies/2023/1/maSMP#limitation': 'integrationTesting',\n",
       " 'http://www.semanticweb.org/oxg/ontologies/2023/1/maSMP#lintingTesting': 'limitation',\n",
       " 'http://www.semanticweb.org/oxg/ontologies/2023/1/maSMP#problem': 'lintingTesting',\n",
       " 'http://www.semanticweb.org/oxg/ontologies/2023/1/maSMP#regressionTesting': 'problem',\n",
       " 'http://www.semanticweb.org/oxg/ontologies/2023/1/maSMP#testType': 'regressionTesting',\n",
       " 'http://www.semanticweb.org/oxg/ontologies/2023/1/maSMP#testedWith': 'testedWith',\n",
       " 'http://www.semanticweb.org/oxg/ontologies/2023/1/maSMP#unitTesting': 'unitTesting',\n",
       " 'https://bioschemas.org/input': 'input',\n",
       " 'https://bioschemas.org/output': 'output',\n",
       " 'https://schema.org/agent': 'agent',\n",
       " 'https://schema.org/archivedAt': 'archivedAt',\n",
       " 'https://schema.org/audience': 'audience',\n",
       " 'https://schema.org/author': 'author',\n",
       " 'https://schema.org/citation': 'citation',\n",
       " 'https://schema.org/codeRepository': 'codeRepository',\n",
       " 'https://schema.org/conditionsOfAccess': 'conditionsOfAccess',\n",
       " 'https://schema.org/contributor': 'contributor',\n",
       " 'https://schema.org/dateCreated': 'hasContributor',\n",
       " 'https://schema.org/dateModified': 'dateCreated',\n",
       " 'https://schema.org/description': 'dateModified',\n",
       " 'https://schema.org/discussionUrl': 'description',\n",
       " 'https://schema.org/email': 'discussionUrl',\n",
       " 'https://schema.org/identifier': 'email',\n",
       " 'https://schema.org/isAccessibleForFree': 'identifier',\n",
       " 'https://schema.org/keywords': 'isAccessibleForFree',\n",
       " 'https://schema.org/license': 'keywords',\n",
       " 'https://schema.org/memoryRequirements': 'license',\n",
       " 'https://schema.org/name': 'memoryRequirements',\n",
       " 'https://schema.org/operatingSystem': 'name',\n",
       " 'https://schema.org/processorRequirements': 'operatingSystem',\n",
       " 'https://schema.org/programmingLanguage': 'processorRequirements',\n",
       " 'https://schema.org/releaseNotes': 'programmingLanguage',\n",
       " 'https://schema.org/softwareRequirements': 'releaseNotes',\n",
       " 'https://schema.org/storageRequirements': 'softwareRequirements',\n",
       " 'https://schema.org/supportingData': 'storageRequirements',\n",
       " 'https://schema.org/targetProduct': 'supportingData',\n",
       " 'https://schema.org/url': 'targetProduct',\n",
       " 'https://schema.org/usageInfo': 'url',\n",
       " 'https://schema.org/version': 'usageInfo',\n",
       " 'https://w3id.org/dcso/ns/core#hasContact': 'version',\n",
       " 'https://w3id.org/dcso/ns/core#hasContributor': 'hasContact',\n",
       " 'https://w3id.org/dcso/ns/core#hasId': 'hasId',\n",
       " 'https://w3id.org/dcso/ns/core#hasLicense': 'hasLicense'}"
      ]
     },
     "execution_count": 34,
     "metadata": {},
     "output_type": "execute_result"
    }
   ],
   "source": [
    "obj_prop_dict"
   ]
  },
  {
   "cell_type": "code",
   "execution_count": 76,
   "id": "ee57a61a",
   "metadata": {},
   "outputs": [],
   "source": [
    "predefined_term = {'http://ncicb.nci.nih.gov/xml/owl/EVS/Thesaurus.owl#C174132': 'C174132',\n",
    " 'https://bioschemas.org/input': 'input',\n",
    " 'https://bioschemas.org/output': 'output',\n",
    " 'https://schema.org/archivedAt': 'archivedAt',\n",
    " 'https://schema.org/audience': 'audience',\n",
    " 'https://schema.org/author': 'author',\n",
    " 'https://schema.org/citation': 'citation',\n",
    " 'https://schema.org/codeRepository': 'codeRepository',\n",
    " 'https://schema.org/conditionsOfAccess': 'conditionsOfAccess',\n",
    " 'https://schema.org/dateCreated': 'hasContributor',\n",
    " 'https://schema.org/dateModified': 'dateCreated',\n",
    " 'https://schema.org/description': 'dateModified',\n",
    " 'https://schema.org/discussionUrl': 'description',\n",
    " 'https://schema.org/email': 'discussionUrl',\n",
    " 'https://schema.org/keywords': 'isAccessibleForFree',\n",
    " 'https://schema.org/programmingLanguage': 'processorRequirements',\n",
    " \n",
    " 'https://schema.org/softwareRequirements': 'releaseNotes',\n",
    " 'https://schema.org/storageRequirements': 'softwareRequirements',\n",
    " 'https://schema.org/supportingData': 'storageRequirements',\n",
    " 'https://schema.org/url': 'targetProduct',\n",
    " 'https://schema.org/version': 'usageInfo',\n",
    " 'https://w3id.org/dcso/ns/core#hasContact': 'version',\n",
    " 'https://w3id.org/dcso/ns/core#hasContributor': 'hasContact',\n",
    " 'https://w3id.org/dcso/ns/core#hasLicense': 'hasLicense'}"
   ]
  },
  {
   "cell_type": "code",
   "execution_count": 35,
   "id": "8e151e9f",
   "metadata": {},
   "outputs": [],
   "source": [
    "class_l = df_dict['label']"
   ]
  },
  {
   "cell_type": "code",
   "execution_count": 36,
   "id": "0ee1916e",
   "metadata": {},
   "outputs": [
    {
     "data": {
      "text/plain": [
       "['Documentation',\n",
       " 'SMP',\n",
       " 'TestAction',\n",
       " 'Agent',\n",
       " 'FormalParameter',\n",
       " 'Action',\n",
       " 'Boolean',\n",
       " 'CreativeWork',\n",
       " 'DataType',\n",
       " 'Dataset-SMP',\n",
       " 'Date',\n",
       " 'DefinedTerm',\n",
       " 'Intangible',\n",
       " 'LearningResource',\n",
       " 'Organization',\n",
       " 'Person',\n",
       " 'PropertyValue',\n",
       " 'SoftwareApplication',\n",
       " 'SoftwareSourceCode',\n",
       " 'Text',\n",
       " 'URL',\n",
       " 'Dataset-DMP',\n",
       " 'Id',\n",
       " 'License']"
      ]
     },
     "execution_count": 36,
     "metadata": {},
     "output_type": "execute_result"
    }
   ],
   "source": [
    "class_l.tolist()"
   ]
  },
  {
   "cell_type": "markdown",
   "id": "af5adb82",
   "metadata": {},
   "source": [
    "## HTML Code"
   ]
  },
  {
   "cell_type": "code",
   "execution_count": 91,
   "id": "e9a06005",
   "metadata": {},
   "outputs": [],
   "source": [
    "title = '## maSMP - Metadata schema representation <br>'\n",
    "img = \"\"\"![maSMP Timeline](masmp_schema.png 'maSMP Timeline')<br>   \"\"\"\n",
    "\n",
    "para = \"\"\"         <br>    <p style=\"text-align:justify\">We have defined a metadata schema \n",
    "in the form of an ontology representing metadata elements for a maSMP. \n",
    "The metadata schema includes entities (colored boxes), involved in software management planning; such as an SMP itself, software source code, software release, documentation, authors and their relations. We are reusing terms mainly from <a href=https://schema.org>Schema.org</a>, <a href=https://bioschemas.org>Bioschemas</a> and from <a href=https://semantics.id/dcso/ns/core/>DCSO </a>, with some few additions of our own.</p>\n",
    "\n",
    "\n",
    "<p style=\"text-align:justify\">Software Source Code and Software Release share most of the object properties (i.e., those that point to another object rather than to a simple type such as a number) but they correspond to different software concepts. While the source code reflects the current status of a software and can be continuously changing, a software release corresponds to a frozen copy of a particular version. As the source code evolves, shared elements can differ, e.g., new authors can get involved. This changing nature of source code together with the release cycle are important aspects captured by the maSMPs that otherwise might not be evident in text-based questionnaires. An overview of concepts used in the metadata schema for maSMPs is depicted in above schema representation.</p>\"\"\"\n",
    "\n",
    "\n",
    "html_str= \"\"\" <h2> Types & Properties </h2><br>\n",
    "    <table><tr><td valign=\"top\" width=\"500\"><br>\n",
    "    <h4>Classes</h4><br>\"\"\"\n",
    "    \n",
    "html_str1 = \"\"\"\n",
    "    </td><td valign=\"top\" width=\"500\"><br>\n",
    "    <h4>Object Properties</h4><br>\"\"\"\n",
    "    \n",
    "html_str2 = \"\"\"</td> </table>\"\"\"\n",
    "\n",
    "list_classes=[]\n",
    "list_objpro=[]\n",
    "for k, v in area_dict.items():\n",
    "    cs = \"<ul><li><a href=\"+ k+'>' + v + '</a></li></ul>'\n",
    "    list_classes.append(cs)\n",
    "    \n",
    "for key, value in predefined_term.items():\n",
    "    \n",
    "    op = \"<ul><li><a href=\" + key + '>'+ value + \"</a></li></ul>\"\n",
    "    list_objpro.append(op)\n",
    "    \n",
    "    \n",
    "    "
   ]
  },
  {
   "cell_type": "code",
   "execution_count": 92,
   "id": "0a512be1",
   "metadata": {},
   "outputs": [
    {
     "data": {
      "text/plain": [
       "['<ul><li><a href=http://ncicb.nci.nih.gov/xml/owl/EVS/Thesaurus.owl#C174132>C174132</a></li></ul>',\n",
       " '<ul><li><a href=https://bioschemas.org/input>input</a></li></ul>',\n",
       " '<ul><li><a href=https://bioschemas.org/output>output</a></li></ul>',\n",
       " '<ul><li><a href=https://schema.org/archivedAt>archivedAt</a></li></ul>',\n",
       " '<ul><li><a href=https://schema.org/audience>audience</a></li></ul>',\n",
       " '<ul><li><a href=https://schema.org/author>author</a></li></ul>',\n",
       " '<ul><li><a href=https://schema.org/citation>citation</a></li></ul>',\n",
       " '<ul><li><a href=https://schema.org/codeRepository>codeRepository</a></li></ul>',\n",
       " '<ul><li><a href=https://schema.org/conditionsOfAccess>conditionsOfAccess</a></li></ul>',\n",
       " '<ul><li><a href=https://schema.org/dateCreated>hasContributor</a></li></ul>',\n",
       " '<ul><li><a href=https://schema.org/dateModified>dateCreated</a></li></ul>',\n",
       " '<ul><li><a href=https://schema.org/description>dateModified</a></li></ul>',\n",
       " '<ul><li><a href=https://schema.org/discussionUrl>description</a></li></ul>',\n",
       " '<ul><li><a href=https://schema.org/email>discussionUrl</a></li></ul>',\n",
       " '<ul><li><a href=https://schema.org/keywords>isAccessibleForFree</a></li></ul>',\n",
       " '<ul><li><a href=https://schema.org/programmingLanguage>processorRequirements</a></li></ul>',\n",
       " '<ul><li><a href=https://schema.org/softwareRequirements>releaseNotes</a></li></ul>',\n",
       " '<ul><li><a href=https://schema.org/storageRequirements>softwareRequirements</a></li></ul>',\n",
       " '<ul><li><a href=https://schema.org/supportingData>storageRequirements</a></li></ul>',\n",
       " '<ul><li><a href=https://schema.org/url>targetProduct</a></li></ul>',\n",
       " '<ul><li><a href=https://schema.org/version>usageInfo</a></li></ul>',\n",
       " '<ul><li><a href=https://w3id.org/dcso/ns/core#hasContact>version</a></li></ul>',\n",
       " '<ul><li><a href=https://w3id.org/dcso/ns/core#hasContributor>hasContact</a></li></ul>',\n",
       " '<ul><li><a href=https://w3id.org/dcso/ns/core#hasLicense>hasLicense</a></li></ul>']"
      ]
     },
     "execution_count": 92,
     "metadata": {},
     "output_type": "execute_result"
    }
   ],
   "source": [
    "list_objpro"
   ]
  },
  {
   "cell_type": "code",
   "execution_count": null,
   "id": "336f27ad",
   "metadata": {},
   "outputs": [],
   "source": []
  },
  {
   "cell_type": "code",
   "execution_count": 93,
   "id": "4b538204",
   "metadata": {},
   "outputs": [],
   "source": [
    "first_join = '\\n'.join(list_classes)"
   ]
  },
  {
   "cell_type": "code",
   "execution_count": 94,
   "id": "4919cbfd",
   "metadata": {},
   "outputs": [
    {
     "data": {
      "text/plain": [
       "'<ul><li><a href=http://www.semanticweb.org/oxg/ontologies/2023/1/maSMP#Documentation>Documentation</a></li></ul>\\n<ul><li><a href=http://www.semanticweb.org/oxg/ontologies/2023/1/maSMP#SMP>SMP</a></li></ul>\\n<ul><li><a href=http://www.semanticweb.org/oxg/ontologies/2023/1/maSMP#TestAction>TestAction</a></li></ul>\\n<ul><li><a href=http://xmlns.com/foaf/0.1/Agent>Agent</a></li></ul>\\n<ul><li><a href=https://bioschemas.org/FormalParameter>FormalParameter</a></li></ul>\\n<ul><li><a href=https://schema.org/Action>Action</a></li></ul>\\n<ul><li><a href=https://schema.org/Boolean>Boolean</a></li></ul>\\n<ul><li><a href=https://schema.org/CreativeWork>CreativeWork</a></li></ul>\\n<ul><li><a href=https://schema.org/DataType>DataType</a></li></ul>\\n<ul><li><a href=https://schema.org/Dataset>Dataset-SMP</a></li></ul>\\n<ul><li><a href=https://schema.org/Date>Date</a></li></ul>\\n<ul><li><a href=https://schema.org/DefinedTerm>DefinedTerm</a></li></ul>\\n<ul><li><a href=https://schema.org/Intangible>Intangible</a></li></ul>\\n<ul><li><a href=https://schema.org/LearningResource>LearningResource</a></li></ul>\\n<ul><li><a href=https://schema.org/Organization>Organization</a></li></ul>\\n<ul><li><a href=https://schema.org/Person>Person</a></li></ul>\\n<ul><li><a href=https://schema.org/PropertyValue>PropertyValue</a></li></ul>\\n<ul><li><a href=https://schema.org/SoftwareApplication>SoftwareApplication</a></li></ul>\\n<ul><li><a href=https://schema.org/SoftwareSourceCode>SoftwareSourceCode</a></li></ul>\\n<ul><li><a href=https://schema.org/Text>Text</a></li></ul>\\n<ul><li><a href=https://schema.org/URL>URL</a></li></ul>\\n<ul><li><a href=https://w3id.org/dcso/ns/core#Dataset>Dataset-DMP</a></li></ul>\\n<ul><li><a href=https://w3id.org/dcso/ns/core#Id>Id</a></li></ul>\\n<ul><li><a href=https://w3id.org/dcso/ns/core#License>License</a></li></ul>'"
      ]
     },
     "execution_count": 94,
     "metadata": {},
     "output_type": "execute_result"
    }
   ],
   "source": [
    "first_join"
   ]
  },
  {
   "cell_type": "code",
   "execution_count": 95,
   "id": "5c95ce37",
   "metadata": {},
   "outputs": [],
   "source": [
    "second_join = '\\n'.join(list_objpro)"
   ]
  },
  {
   "cell_type": "code",
   "execution_count": 96,
   "id": "072341ba",
   "metadata": {},
   "outputs": [
    {
     "data": {
      "text/plain": [
       "'<ul><li><a href=http://ncicb.nci.nih.gov/xml/owl/EVS/Thesaurus.owl#C174132>C174132</a></li></ul>\\n<ul><li><a href=https://bioschemas.org/input>input</a></li></ul>\\n<ul><li><a href=https://bioschemas.org/output>output</a></li></ul>\\n<ul><li><a href=https://schema.org/archivedAt>archivedAt</a></li></ul>\\n<ul><li><a href=https://schema.org/audience>audience</a></li></ul>\\n<ul><li><a href=https://schema.org/author>author</a></li></ul>\\n<ul><li><a href=https://schema.org/citation>citation</a></li></ul>\\n<ul><li><a href=https://schema.org/codeRepository>codeRepository</a></li></ul>\\n<ul><li><a href=https://schema.org/conditionsOfAccess>conditionsOfAccess</a></li></ul>\\n<ul><li><a href=https://schema.org/dateCreated>hasContributor</a></li></ul>\\n<ul><li><a href=https://schema.org/dateModified>dateCreated</a></li></ul>\\n<ul><li><a href=https://schema.org/description>dateModified</a></li></ul>\\n<ul><li><a href=https://schema.org/discussionUrl>description</a></li></ul>\\n<ul><li><a href=https://schema.org/email>discussionUrl</a></li></ul>\\n<ul><li><a href=https://schema.org/keywords>isAccessibleForFree</a></li></ul>\\n<ul><li><a href=https://schema.org/programmingLanguage>processorRequirements</a></li></ul>\\n<ul><li><a href=https://schema.org/softwareRequirements>releaseNotes</a></li></ul>\\n<ul><li><a href=https://schema.org/storageRequirements>softwareRequirements</a></li></ul>\\n<ul><li><a href=https://schema.org/supportingData>storageRequirements</a></li></ul>\\n<ul><li><a href=https://schema.org/url>targetProduct</a></li></ul>\\n<ul><li><a href=https://schema.org/version>usageInfo</a></li></ul>\\n<ul><li><a href=https://w3id.org/dcso/ns/core#hasContact>version</a></li></ul>\\n<ul><li><a href=https://w3id.org/dcso/ns/core#hasContributor>hasContact</a></li></ul>\\n<ul><li><a href=https://w3id.org/dcso/ns/core#hasLicense>hasLicense</a></li></ul>'"
      ]
     },
     "execution_count": 96,
     "metadata": {},
     "output_type": "execute_result"
    }
   ],
   "source": [
    "second_join"
   ]
  },
  {
   "cell_type": "code",
   "execution_count": null,
   "id": "58e153f9",
   "metadata": {},
   "outputs": [],
   "source": []
  },
  {
   "cell_type": "code",
   "execution_count": null,
   "id": "87944fca",
   "metadata": {},
   "outputs": [],
   "source": []
  },
  {
   "cell_type": "code",
   "execution_count": 97,
   "id": "1103bb25",
   "metadata": {},
   "outputs": [],
   "source": [
    "new_defined_term = \"\"\"<table><td valign=\"top\" width=\"700\"> \n",
    "<h4>Newly defined maSMP Properties</h4><br>\n",
    "<ul><li><a href=http://www.semanticweb.org/oxg/ontologies/2023/1/maSMP#endToEndTesting>endToEndTesting</a></li></ul><ul><li><a href=http://www.semanticweb.org/oxg/ontologies/2023/1/maSMP#frontEndTesting>frontEndTesting</a></li></ul><ul><li><a href=http://www.semanticweb.org/oxg/ontologies/2023/1/maSMP#functionalTesting>functionalTesting</a></li></ul><ul><li><a href=http://www.semanticweb.org/oxg/ontologies/2023/1/maSMP#hasAPIDocumentation>hasAPIDocumentation</a></li></ul><ul><li><a href=http://www.semanticweb.org/oxg/ontologies/2023/1/maSMP#hasChangelog>hasChangelog</a></li></ul><ul><li><a href=http://www.semanticweb.org/oxg/ontologies/2023/1/maSMP#hasDeveloperDocumentation>hasDeveloperDocumentation</a></li></ul><ul><li><a href=http://www.semanticweb.org/oxg/ontologies/2023/1/maSMP#hasDocstring>hasDocstring</a></li></ul><ul><li><a href=http://www.semanticweb.org/oxg/ontologies/2023/1/maSMP#hasLearningResource>hasLearningResource</a></li></ul><ul><li><a href=http://www.semanticweb.org/oxg/ontologies/2023/1/maSMP#hasReadme>hasReadme</a></li></ul><ul><li><a href=http://www.semanticweb.org/oxg/ontologies/2023/1/maSMP#hasSoftwareSourceCode>hasSoftwareSourceCode</a></li></ul><ul><li><a href=http://www.semanticweb.org/oxg/ontologies/2023/1/maSMP#hasUserDocumentation>hasUserDocumentation</a></li></ul><ul><li><a href=http://www.semanticweb.org/oxg/ontologies/2023/1/maSMP#hasVersionControlSystem>hasVersionControlSystem</a></li></ul><ul><li><a href=http://www.semanticweb.org/oxg/ontologies/2023/1/maSMP#integrationTesting>integrationTesting</a></li></ul><ul><li><a href=http://www.semanticweb.org/oxg/ontologies/2023/1/maSMP#limitation>limitation</a></li></ul><ul><li><a href=http://www.semanticweb.org/oxg/ontologies/2023/1/maSMP#lintingTesting>lintingTesting</a></li></ul><ul><li><a href=http://www.semanticweb.org/oxg/ontologies/2023/1/maSMP#problem>problem</a></li></ul><ul><li><a href=http://www.semanticweb.org/oxg/ontologies/2023/1/maSMP#regressionTesting>regressionTesting</a></li></ul><ul><li><a href=http://www.semanticweb.org/oxg/ontologies/2023/1/maSMP#testType>testType</a></li></ul><ul><li><a href=http://www.semanticweb.org/oxg/ontologies/2023/1/maSMP#testedWith>testedWith</a></li></ul><ul><li><a href=http://www.semanticweb.org/oxg/ontologies/2023/1/maSMP#unitTesting>unitTesting</a></li></ul>\n",
    "</tr></td></table>\n",
    "\"\"\""
   ]
  },
  {
   "cell_type": "code",
   "execution_count": 98,
   "id": "f59cc42e",
   "metadata": {},
   "outputs": [],
   "source": [
    "html_script_join =  html_str + first_join  + html_str1 + second_join + html_str2 + new_defined_term"
   ]
  },
  {
   "cell_type": "code",
   "execution_count": 99,
   "id": "573effa3",
   "metadata": {},
   "outputs": [
    {
     "data": {
      "text/plain": [
       "' <h2> Types & Properties </h2><br>\\n    <table><tr><td valign=\"top\" width=\"500\"><br>\\n    <h4>Classes</h4><br><ul><li><a href=http://www.semanticweb.org/oxg/ontologies/2023/1/maSMP#Documentation>Documentation</a></li></ul>\\n<ul><li><a href=http://www.semanticweb.org/oxg/ontologies/2023/1/maSMP#SMP>SMP</a></li></ul>\\n<ul><li><a href=http://www.semanticweb.org/oxg/ontologies/2023/1/maSMP#TestAction>TestAction</a></li></ul>\\n<ul><li><a href=http://xmlns.com/foaf/0.1/Agent>Agent</a></li></ul>\\n<ul><li><a href=https://bioschemas.org/FormalParameter>FormalParameter</a></li></ul>\\n<ul><li><a href=https://schema.org/Action>Action</a></li></ul>\\n<ul><li><a href=https://schema.org/Boolean>Boolean</a></li></ul>\\n<ul><li><a href=https://schema.org/CreativeWork>CreativeWork</a></li></ul>\\n<ul><li><a href=https://schema.org/DataType>DataType</a></li></ul>\\n<ul><li><a href=https://schema.org/Dataset>Dataset-SMP</a></li></ul>\\n<ul><li><a href=https://schema.org/Date>Date</a></li></ul>\\n<ul><li><a href=https://schema.org/DefinedTerm>DefinedTerm</a></li></ul>\\n<ul><li><a href=https://schema.org/Intangible>Intangible</a></li></ul>\\n<ul><li><a href=https://schema.org/LearningResource>LearningResource</a></li></ul>\\n<ul><li><a href=https://schema.org/Organization>Organization</a></li></ul>\\n<ul><li><a href=https://schema.org/Person>Person</a></li></ul>\\n<ul><li><a href=https://schema.org/PropertyValue>PropertyValue</a></li></ul>\\n<ul><li><a href=https://schema.org/SoftwareApplication>SoftwareApplication</a></li></ul>\\n<ul><li><a href=https://schema.org/SoftwareSourceCode>SoftwareSourceCode</a></li></ul>\\n<ul><li><a href=https://schema.org/Text>Text</a></li></ul>\\n<ul><li><a href=https://schema.org/URL>URL</a></li></ul>\\n<ul><li><a href=https://w3id.org/dcso/ns/core#Dataset>Dataset-DMP</a></li></ul>\\n<ul><li><a href=https://w3id.org/dcso/ns/core#Id>Id</a></li></ul>\\n<ul><li><a href=https://w3id.org/dcso/ns/core#License>License</a></li></ul>\\n    </td><td valign=\"top\" width=\"500\"><br>\\n    <h4>Object Properties</h4><br><ul><li><a href=http://ncicb.nci.nih.gov/xml/owl/EVS/Thesaurus.owl#C174132>C174132</a></li></ul>\\n<ul><li><a href=https://bioschemas.org/input>input</a></li></ul>\\n<ul><li><a href=https://bioschemas.org/output>output</a></li></ul>\\n<ul><li><a href=https://schema.org/archivedAt>archivedAt</a></li></ul>\\n<ul><li><a href=https://schema.org/audience>audience</a></li></ul>\\n<ul><li><a href=https://schema.org/author>author</a></li></ul>\\n<ul><li><a href=https://schema.org/citation>citation</a></li></ul>\\n<ul><li><a href=https://schema.org/codeRepository>codeRepository</a></li></ul>\\n<ul><li><a href=https://schema.org/conditionsOfAccess>conditionsOfAccess</a></li></ul>\\n<ul><li><a href=https://schema.org/dateCreated>hasContributor</a></li></ul>\\n<ul><li><a href=https://schema.org/dateModified>dateCreated</a></li></ul>\\n<ul><li><a href=https://schema.org/description>dateModified</a></li></ul>\\n<ul><li><a href=https://schema.org/discussionUrl>description</a></li></ul>\\n<ul><li><a href=https://schema.org/email>discussionUrl</a></li></ul>\\n<ul><li><a href=https://schema.org/keywords>isAccessibleForFree</a></li></ul>\\n<ul><li><a href=https://schema.org/programmingLanguage>processorRequirements</a></li></ul>\\n<ul><li><a href=https://schema.org/softwareRequirements>releaseNotes</a></li></ul>\\n<ul><li><a href=https://schema.org/storageRequirements>softwareRequirements</a></li></ul>\\n<ul><li><a href=https://schema.org/supportingData>storageRequirements</a></li></ul>\\n<ul><li><a href=https://schema.org/url>targetProduct</a></li></ul>\\n<ul><li><a href=https://schema.org/version>usageInfo</a></li></ul>\\n<ul><li><a href=https://w3id.org/dcso/ns/core#hasContact>version</a></li></ul>\\n<ul><li><a href=https://w3id.org/dcso/ns/core#hasContributor>hasContact</a></li></ul>\\n<ul><li><a href=https://w3id.org/dcso/ns/core#hasLicense>hasLicense</a></li></ul></td> </table><table><td valign=\"top\" width=\"700\"> \\n<h4>Newly defined maSMP Properties</h4><br>\\n<ul><li><a href=http://www.semanticweb.org/oxg/ontologies/2023/1/maSMP#endToEndTesting>endToEndTesting</a></li></ul><ul><li><a href=http://www.semanticweb.org/oxg/ontologies/2023/1/maSMP#frontEndTesting>frontEndTesting</a></li></ul><ul><li><a href=http://www.semanticweb.org/oxg/ontologies/2023/1/maSMP#functionalTesting>functionalTesting</a></li></ul><ul><li><a href=http://www.semanticweb.org/oxg/ontologies/2023/1/maSMP#hasAPIDocumentation>hasAPIDocumentation</a></li></ul><ul><li><a href=http://www.semanticweb.org/oxg/ontologies/2023/1/maSMP#hasChangelog>hasChangelog</a></li></ul><ul><li><a href=http://www.semanticweb.org/oxg/ontologies/2023/1/maSMP#hasDeveloperDocumentation>hasDeveloperDocumentation</a></li></ul><ul><li><a href=http://www.semanticweb.org/oxg/ontologies/2023/1/maSMP#hasDocstring>hasDocstring</a></li></ul><ul><li><a href=http://www.semanticweb.org/oxg/ontologies/2023/1/maSMP#hasLearningResource>hasLearningResource</a></li></ul><ul><li><a href=http://www.semanticweb.org/oxg/ontologies/2023/1/maSMP#hasReadme>hasReadme</a></li></ul><ul><li><a href=http://www.semanticweb.org/oxg/ontologies/2023/1/maSMP#hasSoftwareSourceCode>hasSoftwareSourceCode</a></li></ul><ul><li><a href=http://www.semanticweb.org/oxg/ontologies/2023/1/maSMP#hasUserDocumentation>hasUserDocumentation</a></li></ul><ul><li><a href=http://www.semanticweb.org/oxg/ontologies/2023/1/maSMP#hasVersionControlSystem>hasVersionControlSystem</a></li></ul><ul><li><a href=http://www.semanticweb.org/oxg/ontologies/2023/1/maSMP#integrationTesting>integrationTesting</a></li></ul><ul><li><a href=http://www.semanticweb.org/oxg/ontologies/2023/1/maSMP#limitation>limitation</a></li></ul><ul><li><a href=http://www.semanticweb.org/oxg/ontologies/2023/1/maSMP#lintingTesting>lintingTesting</a></li></ul><ul><li><a href=http://www.semanticweb.org/oxg/ontologies/2023/1/maSMP#problem>problem</a></li></ul><ul><li><a href=http://www.semanticweb.org/oxg/ontologies/2023/1/maSMP#regressionTesting>regressionTesting</a></li></ul><ul><li><a href=http://www.semanticweb.org/oxg/ontologies/2023/1/maSMP#testType>testType</a></li></ul><ul><li><a href=http://www.semanticweb.org/oxg/ontologies/2023/1/maSMP#testedWith>testedWith</a></li></ul><ul><li><a href=http://www.semanticweb.org/oxg/ontologies/2023/1/maSMP#unitTesting>unitTesting</a></li></ul>\\n</tr></td></table>\\n'"
      ]
     },
     "execution_count": 99,
     "metadata": {},
     "output_type": "execute_result"
    }
   ],
   "source": [
    "html_script_join"
   ]
  },
  {
   "cell_type": "code",
   "execution_count": 100,
   "id": "d707522e",
   "metadata": {},
   "outputs": [],
   "source": [
    "script = title + img + para+ html_script_join"
   ]
  },
  {
   "cell_type": "code",
   "execution_count": 101,
   "id": "1553e027",
   "metadata": {},
   "outputs": [
    {
     "data": {
      "text/plain": [
       "'## maSMP - Metadata schema representation <br>![maSMP Timeline](masmp_schema.png \\'maSMP Timeline\\')<br>            <br>    <p style=\"text-align:justify\">We have defined a metadata schema \\nin the form of an ontology representing metadata elements for a maSMP. \\nThe metadata schema includes entities (colored boxes), involved in software management planning; such as an SMP itself, software source code, software release, documentation, authors and their relations. We are reusing terms mainly from <a href=https://schema.org>Schema.org</a>, <a href=https://bioschemas.org>Bioschemas</a> and from <a href=https://semantics.id/dcso/ns/core/>DCSO </a>, with some few additions of our own.</p>\\n\\n\\n<p style=\"text-align:justify\">Software Source Code and Software Release share most of the object properties (i.e., those that point to another object rather than to a simple type such as a number) but they correspond to different software concepts. While the source code reflects the current status of a software and can be continuously changing, a software release corresponds to a frozen copy of a particular version. As the source code evolves, shared elements can differ, e.g., new authors can get involved. This changing nature of source code together with the release cycle are important aspects captured by the maSMPs that otherwise might not be evident in text-based questionnaires. An overview of concepts used in the metadata schema for maSMPs is depicted in above schema representation.</p> <h2> Types & Properties </h2><br>\\n    <table><tr><td valign=\"top\" width=\"500\"><br>\\n    <h4>Classes</h4><br><ul><li><a href=http://www.semanticweb.org/oxg/ontologies/2023/1/maSMP#Documentation>Documentation</a></li></ul>\\n<ul><li><a href=http://www.semanticweb.org/oxg/ontologies/2023/1/maSMP#SMP>SMP</a></li></ul>\\n<ul><li><a href=http://www.semanticweb.org/oxg/ontologies/2023/1/maSMP#TestAction>TestAction</a></li></ul>\\n<ul><li><a href=http://xmlns.com/foaf/0.1/Agent>Agent</a></li></ul>\\n<ul><li><a href=https://bioschemas.org/FormalParameter>FormalParameter</a></li></ul>\\n<ul><li><a href=https://schema.org/Action>Action</a></li></ul>\\n<ul><li><a href=https://schema.org/Boolean>Boolean</a></li></ul>\\n<ul><li><a href=https://schema.org/CreativeWork>CreativeWork</a></li></ul>\\n<ul><li><a href=https://schema.org/DataType>DataType</a></li></ul>\\n<ul><li><a href=https://schema.org/Dataset>Dataset-SMP</a></li></ul>\\n<ul><li><a href=https://schema.org/Date>Date</a></li></ul>\\n<ul><li><a href=https://schema.org/DefinedTerm>DefinedTerm</a></li></ul>\\n<ul><li><a href=https://schema.org/Intangible>Intangible</a></li></ul>\\n<ul><li><a href=https://schema.org/LearningResource>LearningResource</a></li></ul>\\n<ul><li><a href=https://schema.org/Organization>Organization</a></li></ul>\\n<ul><li><a href=https://schema.org/Person>Person</a></li></ul>\\n<ul><li><a href=https://schema.org/PropertyValue>PropertyValue</a></li></ul>\\n<ul><li><a href=https://schema.org/SoftwareApplication>SoftwareApplication</a></li></ul>\\n<ul><li><a href=https://schema.org/SoftwareSourceCode>SoftwareSourceCode</a></li></ul>\\n<ul><li><a href=https://schema.org/Text>Text</a></li></ul>\\n<ul><li><a href=https://schema.org/URL>URL</a></li></ul>\\n<ul><li><a href=https://w3id.org/dcso/ns/core#Dataset>Dataset-DMP</a></li></ul>\\n<ul><li><a href=https://w3id.org/dcso/ns/core#Id>Id</a></li></ul>\\n<ul><li><a href=https://w3id.org/dcso/ns/core#License>License</a></li></ul>\\n    </td><td valign=\"top\" width=\"500\"><br>\\n    <h4>Object Properties</h4><br><ul><li><a href=http://ncicb.nci.nih.gov/xml/owl/EVS/Thesaurus.owl#C174132>C174132</a></li></ul>\\n<ul><li><a href=https://bioschemas.org/input>input</a></li></ul>\\n<ul><li><a href=https://bioschemas.org/output>output</a></li></ul>\\n<ul><li><a href=https://schema.org/archivedAt>archivedAt</a></li></ul>\\n<ul><li><a href=https://schema.org/audience>audience</a></li></ul>\\n<ul><li><a href=https://schema.org/author>author</a></li></ul>\\n<ul><li><a href=https://schema.org/citation>citation</a></li></ul>\\n<ul><li><a href=https://schema.org/codeRepository>codeRepository</a></li></ul>\\n<ul><li><a href=https://schema.org/conditionsOfAccess>conditionsOfAccess</a></li></ul>\\n<ul><li><a href=https://schema.org/dateCreated>hasContributor</a></li></ul>\\n<ul><li><a href=https://schema.org/dateModified>dateCreated</a></li></ul>\\n<ul><li><a href=https://schema.org/description>dateModified</a></li></ul>\\n<ul><li><a href=https://schema.org/discussionUrl>description</a></li></ul>\\n<ul><li><a href=https://schema.org/email>discussionUrl</a></li></ul>\\n<ul><li><a href=https://schema.org/keywords>isAccessibleForFree</a></li></ul>\\n<ul><li><a href=https://schema.org/programmingLanguage>processorRequirements</a></li></ul>\\n<ul><li><a href=https://schema.org/softwareRequirements>releaseNotes</a></li></ul>\\n<ul><li><a href=https://schema.org/storageRequirements>softwareRequirements</a></li></ul>\\n<ul><li><a href=https://schema.org/supportingData>storageRequirements</a></li></ul>\\n<ul><li><a href=https://schema.org/url>targetProduct</a></li></ul>\\n<ul><li><a href=https://schema.org/version>usageInfo</a></li></ul>\\n<ul><li><a href=https://w3id.org/dcso/ns/core#hasContact>version</a></li></ul>\\n<ul><li><a href=https://w3id.org/dcso/ns/core#hasContributor>hasContact</a></li></ul>\\n<ul><li><a href=https://w3id.org/dcso/ns/core#hasLicense>hasLicense</a></li></ul></td> </table><table><td valign=\"top\" width=\"700\"> \\n<h4>Newly defined maSMP Properties</h4><br>\\n<ul><li><a href=http://www.semanticweb.org/oxg/ontologies/2023/1/maSMP#endToEndTesting>endToEndTesting</a></li></ul><ul><li><a href=http://www.semanticweb.org/oxg/ontologies/2023/1/maSMP#frontEndTesting>frontEndTesting</a></li></ul><ul><li><a href=http://www.semanticweb.org/oxg/ontologies/2023/1/maSMP#functionalTesting>functionalTesting</a></li></ul><ul><li><a href=http://www.semanticweb.org/oxg/ontologies/2023/1/maSMP#hasAPIDocumentation>hasAPIDocumentation</a></li></ul><ul><li><a href=http://www.semanticweb.org/oxg/ontologies/2023/1/maSMP#hasChangelog>hasChangelog</a></li></ul><ul><li><a href=http://www.semanticweb.org/oxg/ontologies/2023/1/maSMP#hasDeveloperDocumentation>hasDeveloperDocumentation</a></li></ul><ul><li><a href=http://www.semanticweb.org/oxg/ontologies/2023/1/maSMP#hasDocstring>hasDocstring</a></li></ul><ul><li><a href=http://www.semanticweb.org/oxg/ontologies/2023/1/maSMP#hasLearningResource>hasLearningResource</a></li></ul><ul><li><a href=http://www.semanticweb.org/oxg/ontologies/2023/1/maSMP#hasReadme>hasReadme</a></li></ul><ul><li><a href=http://www.semanticweb.org/oxg/ontologies/2023/1/maSMP#hasSoftwareSourceCode>hasSoftwareSourceCode</a></li></ul><ul><li><a href=http://www.semanticweb.org/oxg/ontologies/2023/1/maSMP#hasUserDocumentation>hasUserDocumentation</a></li></ul><ul><li><a href=http://www.semanticweb.org/oxg/ontologies/2023/1/maSMP#hasVersionControlSystem>hasVersionControlSystem</a></li></ul><ul><li><a href=http://www.semanticweb.org/oxg/ontologies/2023/1/maSMP#integrationTesting>integrationTesting</a></li></ul><ul><li><a href=http://www.semanticweb.org/oxg/ontologies/2023/1/maSMP#limitation>limitation</a></li></ul><ul><li><a href=http://www.semanticweb.org/oxg/ontologies/2023/1/maSMP#lintingTesting>lintingTesting</a></li></ul><ul><li><a href=http://www.semanticweb.org/oxg/ontologies/2023/1/maSMP#problem>problem</a></li></ul><ul><li><a href=http://www.semanticweb.org/oxg/ontologies/2023/1/maSMP#regressionTesting>regressionTesting</a></li></ul><ul><li><a href=http://www.semanticweb.org/oxg/ontologies/2023/1/maSMP#testType>testType</a></li></ul><ul><li><a href=http://www.semanticweb.org/oxg/ontologies/2023/1/maSMP#testedWith>testedWith</a></li></ul><ul><li><a href=http://www.semanticweb.org/oxg/ontologies/2023/1/maSMP#unitTesting>unitTesting</a></li></ul>\\n</tr></td></table>\\n'"
      ]
     },
     "execution_count": 101,
     "metadata": {},
     "output_type": "execute_result"
    }
   ],
   "source": [
    "script"
   ]
  },
  {
   "cell_type": "code",
   "execution_count": 102,
   "id": "53d17f40",
   "metadata": {},
   "outputs": [],
   "source": [
    " final_script= script.replace(\"\\n\", \"\")"
   ]
  },
  {
   "cell_type": "code",
   "execution_count": 103,
   "id": "17d5af0e",
   "metadata": {},
   "outputs": [
    {
     "data": {
      "text/plain": [
       "'## maSMP - Metadata schema representation <br>![maSMP Timeline](masmp_schema.png \\'maSMP Timeline\\')<br>            <br>    <p style=\"text-align:justify\">We have defined a metadata schema in the form of an ontology representing metadata elements for a maSMP. The metadata schema includes entities (colored boxes), involved in software management planning; such as an SMP itself, software source code, software release, documentation, authors and their relations. We are reusing terms mainly from <a href=https://schema.org>Schema.org</a>, <a href=https://bioschemas.org>Bioschemas</a> and from <a href=https://semantics.id/dcso/ns/core/>DCSO </a>, with some few additions of our own.</p><p style=\"text-align:justify\">Software Source Code and Software Release share most of the object properties (i.e., those that point to another object rather than to a simple type such as a number) but they correspond to different software concepts. While the source code reflects the current status of a software and can be continuously changing, a software release corresponds to a frozen copy of a particular version. As the source code evolves, shared elements can differ, e.g., new authors can get involved. This changing nature of source code together with the release cycle are important aspects captured by the maSMPs that otherwise might not be evident in text-based questionnaires. An overview of concepts used in the metadata schema for maSMPs is depicted in above schema representation.</p> <h2> Types & Properties </h2><br>    <table><tr><td valign=\"top\" width=\"500\"><br>    <h4>Classes</h4><br><ul><li><a href=http://www.semanticweb.org/oxg/ontologies/2023/1/maSMP#Documentation>Documentation</a></li></ul><ul><li><a href=http://www.semanticweb.org/oxg/ontologies/2023/1/maSMP#SMP>SMP</a></li></ul><ul><li><a href=http://www.semanticweb.org/oxg/ontologies/2023/1/maSMP#TestAction>TestAction</a></li></ul><ul><li><a href=http://xmlns.com/foaf/0.1/Agent>Agent</a></li></ul><ul><li><a href=https://bioschemas.org/FormalParameter>FormalParameter</a></li></ul><ul><li><a href=https://schema.org/Action>Action</a></li></ul><ul><li><a href=https://schema.org/Boolean>Boolean</a></li></ul><ul><li><a href=https://schema.org/CreativeWork>CreativeWork</a></li></ul><ul><li><a href=https://schema.org/DataType>DataType</a></li></ul><ul><li><a href=https://schema.org/Dataset>Dataset-SMP</a></li></ul><ul><li><a href=https://schema.org/Date>Date</a></li></ul><ul><li><a href=https://schema.org/DefinedTerm>DefinedTerm</a></li></ul><ul><li><a href=https://schema.org/Intangible>Intangible</a></li></ul><ul><li><a href=https://schema.org/LearningResource>LearningResource</a></li></ul><ul><li><a href=https://schema.org/Organization>Organization</a></li></ul><ul><li><a href=https://schema.org/Person>Person</a></li></ul><ul><li><a href=https://schema.org/PropertyValue>PropertyValue</a></li></ul><ul><li><a href=https://schema.org/SoftwareApplication>SoftwareApplication</a></li></ul><ul><li><a href=https://schema.org/SoftwareSourceCode>SoftwareSourceCode</a></li></ul><ul><li><a href=https://schema.org/Text>Text</a></li></ul><ul><li><a href=https://schema.org/URL>URL</a></li></ul><ul><li><a href=https://w3id.org/dcso/ns/core#Dataset>Dataset-DMP</a></li></ul><ul><li><a href=https://w3id.org/dcso/ns/core#Id>Id</a></li></ul><ul><li><a href=https://w3id.org/dcso/ns/core#License>License</a></li></ul>    </td><td valign=\"top\" width=\"500\"><br>    <h4>Object Properties</h4><br><ul><li><a href=http://ncicb.nci.nih.gov/xml/owl/EVS/Thesaurus.owl#C174132>C174132</a></li></ul><ul><li><a href=https://bioschemas.org/input>input</a></li></ul><ul><li><a href=https://bioschemas.org/output>output</a></li></ul><ul><li><a href=https://schema.org/archivedAt>archivedAt</a></li></ul><ul><li><a href=https://schema.org/audience>audience</a></li></ul><ul><li><a href=https://schema.org/author>author</a></li></ul><ul><li><a href=https://schema.org/citation>citation</a></li></ul><ul><li><a href=https://schema.org/codeRepository>codeRepository</a></li></ul><ul><li><a href=https://schema.org/conditionsOfAccess>conditionsOfAccess</a></li></ul><ul><li><a href=https://schema.org/dateCreated>hasContributor</a></li></ul><ul><li><a href=https://schema.org/dateModified>dateCreated</a></li></ul><ul><li><a href=https://schema.org/description>dateModified</a></li></ul><ul><li><a href=https://schema.org/discussionUrl>description</a></li></ul><ul><li><a href=https://schema.org/email>discussionUrl</a></li></ul><ul><li><a href=https://schema.org/keywords>isAccessibleForFree</a></li></ul><ul><li><a href=https://schema.org/programmingLanguage>processorRequirements</a></li></ul><ul><li><a href=https://schema.org/softwareRequirements>releaseNotes</a></li></ul><ul><li><a href=https://schema.org/storageRequirements>softwareRequirements</a></li></ul><ul><li><a href=https://schema.org/supportingData>storageRequirements</a></li></ul><ul><li><a href=https://schema.org/url>targetProduct</a></li></ul><ul><li><a href=https://schema.org/version>usageInfo</a></li></ul><ul><li><a href=https://w3id.org/dcso/ns/core#hasContact>version</a></li></ul><ul><li><a href=https://w3id.org/dcso/ns/core#hasContributor>hasContact</a></li></ul><ul><li><a href=https://w3id.org/dcso/ns/core#hasLicense>hasLicense</a></li></ul></td> </table><table><td valign=\"top\" width=\"700\"> <h4>Newly defined maSMP Properties</h4><br><ul><li><a href=http://www.semanticweb.org/oxg/ontologies/2023/1/maSMP#endToEndTesting>endToEndTesting</a></li></ul><ul><li><a href=http://www.semanticweb.org/oxg/ontologies/2023/1/maSMP#frontEndTesting>frontEndTesting</a></li></ul><ul><li><a href=http://www.semanticweb.org/oxg/ontologies/2023/1/maSMP#functionalTesting>functionalTesting</a></li></ul><ul><li><a href=http://www.semanticweb.org/oxg/ontologies/2023/1/maSMP#hasAPIDocumentation>hasAPIDocumentation</a></li></ul><ul><li><a href=http://www.semanticweb.org/oxg/ontologies/2023/1/maSMP#hasChangelog>hasChangelog</a></li></ul><ul><li><a href=http://www.semanticweb.org/oxg/ontologies/2023/1/maSMP#hasDeveloperDocumentation>hasDeveloperDocumentation</a></li></ul><ul><li><a href=http://www.semanticweb.org/oxg/ontologies/2023/1/maSMP#hasDocstring>hasDocstring</a></li></ul><ul><li><a href=http://www.semanticweb.org/oxg/ontologies/2023/1/maSMP#hasLearningResource>hasLearningResource</a></li></ul><ul><li><a href=http://www.semanticweb.org/oxg/ontologies/2023/1/maSMP#hasReadme>hasReadme</a></li></ul><ul><li><a href=http://www.semanticweb.org/oxg/ontologies/2023/1/maSMP#hasSoftwareSourceCode>hasSoftwareSourceCode</a></li></ul><ul><li><a href=http://www.semanticweb.org/oxg/ontologies/2023/1/maSMP#hasUserDocumentation>hasUserDocumentation</a></li></ul><ul><li><a href=http://www.semanticweb.org/oxg/ontologies/2023/1/maSMP#hasVersionControlSystem>hasVersionControlSystem</a></li></ul><ul><li><a href=http://www.semanticweb.org/oxg/ontologies/2023/1/maSMP#integrationTesting>integrationTesting</a></li></ul><ul><li><a href=http://www.semanticweb.org/oxg/ontologies/2023/1/maSMP#limitation>limitation</a></li></ul><ul><li><a href=http://www.semanticweb.org/oxg/ontologies/2023/1/maSMP#lintingTesting>lintingTesting</a></li></ul><ul><li><a href=http://www.semanticweb.org/oxg/ontologies/2023/1/maSMP#problem>problem</a></li></ul><ul><li><a href=http://www.semanticweb.org/oxg/ontologies/2023/1/maSMP#regressionTesting>regressionTesting</a></li></ul><ul><li><a href=http://www.semanticweb.org/oxg/ontologies/2023/1/maSMP#testType>testType</a></li></ul><ul><li><a href=http://www.semanticweb.org/oxg/ontologies/2023/1/maSMP#testedWith>testedWith</a></li></ul><ul><li><a href=http://www.semanticweb.org/oxg/ontologies/2023/1/maSMP#unitTesting>unitTesting</a></li></ul></tr></td></table>'"
      ]
     },
     "execution_count": 103,
     "metadata": {},
     "output_type": "execute_result"
    }
   ],
   "source": [
    "final_script"
   ]
  },
  {
   "cell_type": "code",
   "execution_count": 104,
   "id": "3d99e3b9",
   "metadata": {},
   "outputs": [],
   "source": [
    "# final_script = final_script.lstrip()"
   ]
  },
  {
   "cell_type": "code",
   "execution_count": 105,
   "id": "c5eb2b82",
   "metadata": {},
   "outputs": [],
   "source": [
    "# final_script"
   ]
  },
  {
   "cell_type": "code",
   "execution_count": 106,
   "id": "b718a809",
   "metadata": {},
   "outputs": [],
   "source": [
    "# final_script= final_script.replace(\" \", \"\")"
   ]
  },
  {
   "cell_type": "code",
   "execution_count": null,
   "id": "2a8edb1b",
   "metadata": {},
   "outputs": [],
   "source": []
  },
  {
   "cell_type": "code",
   "execution_count": 107,
   "id": "9495febc",
   "metadata": {},
   "outputs": [],
   "source": [
    "import markdown\n",
    "path = r'/Users/dhwani/ZBMED/maSPMs/docs/'\n",
    "with open (path+'maSMP_Schema.md', 'bw+') as f:\n",
    "    \n",
    "#     for i in list2:\n",
    "    f.write('{}\\n'. format(final_script).encode(\"utf-8\"))\n",
    "    f.seek(0)\n",
    "    markdown.markdownFromFile(input=f, output='class_list.html')"
   ]
  },
  {
   "cell_type": "code",
   "execution_count": null,
   "id": "a687c11f",
   "metadata": {},
   "outputs": [],
   "source": []
  },
  {
   "cell_type": "code",
   "execution_count": 34,
   "id": "3909dc75",
   "metadata": {},
   "outputs": [],
   "source": [
    "def generate_graph(file_path):\n",
    "    \"\"\"\n",
    "    input: turtle file(.ttl)\n",
    "    output: graph\n",
    "    generating and serializing graph\n",
    "    \"\"\"\n",
    "    graph = rdflib.Graph()\n",
    "#     RDF_FILE = r'C:\\Users\\admin\\Dhwani\\Trial\\GO.ttl'\n",
    "    graph.parse(file_path, format='turtle')\n",
    "    v = graph.serialize(format=\"ttl\")\n",
    "    return graph"
   ]
  },
  {
   "cell_type": "code",
   "execution_count": 35,
   "id": "20404c2d",
   "metadata": {},
   "outputs": [
    {
     "data": {
      "text/plain": [
       "<Graph identifier=N2fdb6d39f93a42b7acbae857414be255 (<class 'rdflib.graph.Graph'>)>"
      ]
     },
     "execution_count": 35,
     "metadata": {},
     "output_type": "execute_result"
    }
   ],
   "source": [
    "generate_graph('/Users/dhwani/Downloads/ontology.ttl')"
   ]
  },
  {
   "cell_type": "code",
   "execution_count": 92,
   "id": "0a474d9a",
   "metadata": {},
   "outputs": [],
   "source": []
  },
  {
   "cell_type": "code",
   "execution_count": null,
   "id": "141fff58",
   "metadata": {},
   "outputs": [],
   "source": []
  },
  {
   "cell_type": "code",
   "execution_count": null,
   "id": "c6ec1b2c",
   "metadata": {},
   "outputs": [],
   "source": []
  },
  {
   "cell_type": "code",
   "execution_count": null,
   "id": "08a5bcfb",
   "metadata": {},
   "outputs": [],
   "source": []
  },
  {
   "cell_type": "code",
   "execution_count": null,
   "id": "8cf0f38c",
   "metadata": {},
   "outputs": [],
   "source": []
  }
 ],
 "metadata": {
  "kernelspec": {
   "display_name": "Python 3 (ipykernel)",
   "language": "python",
   "name": "python3"
  },
  "language_info": {
   "codemirror_mode": {
    "name": "ipython",
    "version": 3
   },
   "file_extension": ".py",
   "mimetype": "text/x-python",
   "name": "python",
   "nbconvert_exporter": "python",
   "pygments_lexer": "ipython3",
   "version": "3.9.13"
  }
 },
 "nbformat": 4,
 "nbformat_minor": 5
}
